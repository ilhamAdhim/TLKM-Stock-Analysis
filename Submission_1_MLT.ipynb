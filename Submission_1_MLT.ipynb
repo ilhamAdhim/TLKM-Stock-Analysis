{
  "nbformat": 4,
  "nbformat_minor": 0,
  "metadata": {
    "colab": {
      "name": "Submission 1 - MLT.ipynb",
      "provenance": [],
      "collapsed_sections": []
    },
    "kernelspec": {
      "display_name": "Python 3",
      "name": "python3"
    },
    "language_info": {
      "name": "python"
    }
  },
  "cells": [
    {
      "cell_type": "markdown",
      "metadata": {
        "id": "bL0RuBtpnd2c"
      },
      "source": [
        "# **Business Understanding**"
      ]
    },
    {
      "cell_type": "markdown",
      "metadata": {
        "id": "-zIpHPynngnb"
      },
      "source": [
        "**Problem Statement**\n",
        "\n",
        "> Membuat prediksi harga saham PT Telkom Indonesia (Persero) Tbk. berdasarkan dataset yang ada.\n",
        "\n",
        "**Goal**\n",
        "> Memprediksi harga saham TLKM\n",
        "\n",
        "**Solution**\n",
        "> Karena dataset terkait hanya berisi tentang data tanggal dan harga, maka solusi yang sangat tepat untuk masalah ini adalah dengan menggunakan pendekatan Time Series. "
      ]
    },
    {
      "cell_type": "code",
      "metadata": {
        "colab": {
          "base_uri": "https://localhost:8080/"
        },
        "id": "hygtTdj2YxzJ",
        "outputId": "1ddb09b0-cc1c-4cdb-ab5b-b14bb5a0e6f4"
      },
      "source": [
        "!pip install opendatasets"
      ],
      "execution_count": 1,
      "outputs": [
        {
          "output_type": "stream",
          "name": "stdout",
          "text": [
            "Requirement already satisfied: opendatasets in /usr/local/lib/python3.7/dist-packages (0.1.20)\n",
            "Requirement already satisfied: click in /usr/local/lib/python3.7/dist-packages (from opendatasets) (7.1.2)\n",
            "Requirement already satisfied: tqdm in /usr/local/lib/python3.7/dist-packages (from opendatasets) (4.62.3)\n",
            "Requirement already satisfied: kaggle in /usr/local/lib/python3.7/dist-packages (from opendatasets) (1.5.12)\n",
            "Requirement already satisfied: urllib3 in /usr/local/lib/python3.7/dist-packages (from kaggle->opendatasets) (1.24.3)\n",
            "Requirement already satisfied: certifi in /usr/local/lib/python3.7/dist-packages (from kaggle->opendatasets) (2021.5.30)\n",
            "Requirement already satisfied: six>=1.10 in /usr/local/lib/python3.7/dist-packages (from kaggle->opendatasets) (1.15.0)\n",
            "Requirement already satisfied: python-dateutil in /usr/local/lib/python3.7/dist-packages (from kaggle->opendatasets) (2.8.2)\n",
            "Requirement already satisfied: requests in /usr/local/lib/python3.7/dist-packages (from kaggle->opendatasets) (2.23.0)\n",
            "Requirement already satisfied: python-slugify in /usr/local/lib/python3.7/dist-packages (from kaggle->opendatasets) (5.0.2)\n",
            "Requirement already satisfied: text-unidecode>=1.3 in /usr/local/lib/python3.7/dist-packages (from python-slugify->kaggle->opendatasets) (1.3)\n",
            "Requirement already satisfied: idna<3,>=2.5 in /usr/local/lib/python3.7/dist-packages (from requests->kaggle->opendatasets) (2.10)\n",
            "Requirement already satisfied: chardet<4,>=3.0.2 in /usr/local/lib/python3.7/dist-packages (from requests->kaggle->opendatasets) (3.0.4)\n"
          ]
        }
      ]
    },
    {
      "cell_type": "code",
      "metadata": {
        "id": "lvPHaHjBY1QD"
      },
      "source": [
        "# Import all required libraries\n",
        "import numpy as np\n",
        "import pandas as pd\n",
        "import tensorflow as tf\n",
        "import matplotlib\n",
        "import matplotlib.ticker as ticker\n",
        "import matplotlib.pyplot as plt\n",
        "import matplotlib.dates as mdates\n",
        "\n",
        "# Importing layers from keras. Use LSTM for input layer, and Dense for hidden and output layer\n",
        "from keras.layers import Dense, LSTM, Dropout\n",
        "from keras.models import Sequential\n",
        "\n",
        "# Import Adam Optimizers\n",
        "from tensorflow.keras.optimizers import Adam\n",
        "\n",
        "# Import for splitting test and training data set\n",
        "from sklearn.preprocessing import MinMaxScaler\n",
        "from sklearn.model_selection import train_test_split\n",
        "import seaborn as sns\n",
        "\n",
        "from keras.callbacks import  EarlyStopping\n",
        "import opendatasets as od"
      ],
      "execution_count": 2,
      "outputs": []
    },
    {
      "cell_type": "code",
      "metadata": {
        "colab": {
          "base_uri": "https://localhost:8080/"
        },
        "id": "d6x4o1VlY2wp",
        "outputId": "42600890-666a-43fe-f445-894cf92574a7"
      },
      "source": [
        "od.download(\"https://www.kaggle.com/fawwazzainiahmad/indonesian-government-owned-company-stock-price\")"
      ],
      "execution_count": 3,
      "outputs": [
        {
          "output_type": "stream",
          "name": "stdout",
          "text": [
            "Skipping, found downloaded files in \"./indonesian-government-owned-company-stock-price\" (use force=True to force download)\n"
          ]
        }
      ]
    },
    {
      "cell_type": "markdown",
      "metadata": {
        "id": "Ts-0iaVgnn6r"
      },
      "source": [
        "\n",
        "# Data Understanding\n"
      ]
    },
    {
      "cell_type": "markdown",
      "metadata": {
        "id": "dNW8JBYAno5C"
      },
      "source": [
        "\n",
        "Untuk submission ini, saya mengambil data dari [Kaggle](https://www.kaggle.com) yang bernama **[Indonesian Government Owned Company Stock Price](https://www.kaggle.com/fawwazzainiahmad/indonesian-government-owned-company-stock-price?select=TLKM.JK.csv)**. Berikut adalah daftar kolom di file CSV yang tersedia:\n",
        "\n",
        "  * Date - Tanggal trading saham TLKM (datatype : string object)\n",
        "  * Open - Harga ketika pertama kali diumumkan di tanggal tersebut (datatype : float64)\n",
        "  * High - Harga tertinggi di tanggal tersebut (datatype : float64)\n",
        "  * Low -  Harga terendah di tanggal tersebut (datatype : float64)\n",
        "  * Close - Harga saham ketika diakhir period (datatype : float64)\n",
        "  * Adj Close - Close value setelah mempertimbangkan dividen dan stock split (datatype : float64)\n",
        "  * Volume - Jumlah transaksi saham di tanggal tersebut (datatype : float64)"
      ]
    },
    {
      "cell_type": "code",
      "metadata": {
        "colab": {
          "base_uri": "https://localhost:8080/",
          "height": 418
        },
        "id": "SDlqgVDZY4Bm",
        "outputId": "00a2e633-09eb-4e40-853c-4cad0f6f5198"
      },
      "source": [
        "df = pd.read_csv('/content/indonesian-government-owned-company-stock-price/TLKM.JK.csv', parse_dates=True, squeeze=True)\n",
        "df"
      ],
      "execution_count": 4,
      "outputs": [
        {
          "output_type": "execute_result",
          "data": {
            "text/html": [
              "<div>\n",
              "<style scoped>\n",
              "    .dataframe tbody tr th:only-of-type {\n",
              "        vertical-align: middle;\n",
              "    }\n",
              "\n",
              "    .dataframe tbody tr th {\n",
              "        vertical-align: top;\n",
              "    }\n",
              "\n",
              "    .dataframe thead th {\n",
              "        text-align: right;\n",
              "    }\n",
              "</style>\n",
              "<table border=\"1\" class=\"dataframe\">\n",
              "  <thead>\n",
              "    <tr style=\"text-align: right;\">\n",
              "      <th></th>\n",
              "      <th>Date</th>\n",
              "      <th>Open</th>\n",
              "      <th>High</th>\n",
              "      <th>Low</th>\n",
              "      <th>Close</th>\n",
              "      <th>Adj Close</th>\n",
              "      <th>Volume</th>\n",
              "    </tr>\n",
              "  </thead>\n",
              "  <tbody>\n",
              "    <tr>\n",
              "      <th>0</th>\n",
              "      <td>2004-09-28</td>\n",
              "      <td>835.0</td>\n",
              "      <td>835.0</td>\n",
              "      <td>825.0</td>\n",
              "      <td>825.0</td>\n",
              "      <td>117.375580</td>\n",
              "      <td>90095000.0</td>\n",
              "    </tr>\n",
              "    <tr>\n",
              "      <th>1</th>\n",
              "      <td>2004-09-29</td>\n",
              "      <td>825.0</td>\n",
              "      <td>825.0</td>\n",
              "      <td>810.0</td>\n",
              "      <td>825.0</td>\n",
              "      <td>117.375580</td>\n",
              "      <td>29370000.0</td>\n",
              "    </tr>\n",
              "    <tr>\n",
              "      <th>2</th>\n",
              "      <td>2004-09-30</td>\n",
              "      <td>825.0</td>\n",
              "      <td>830.0</td>\n",
              "      <td>825.0</td>\n",
              "      <td>830.0</td>\n",
              "      <td>118.086952</td>\n",
              "      <td>42927500.0</td>\n",
              "    </tr>\n",
              "    <tr>\n",
              "      <th>3</th>\n",
              "      <td>2004-10-01</td>\n",
              "      <td>830.0</td>\n",
              "      <td>845.0</td>\n",
              "      <td>825.0</td>\n",
              "      <td>840.0</td>\n",
              "      <td>119.509682</td>\n",
              "      <td>108387500.0</td>\n",
              "    </tr>\n",
              "    <tr>\n",
              "      <th>4</th>\n",
              "      <td>2004-10-04</td>\n",
              "      <td>845.0</td>\n",
              "      <td>880.0</td>\n",
              "      <td>845.0</td>\n",
              "      <td>870.0</td>\n",
              "      <td>123.777878</td>\n",
              "      <td>424210000.0</td>\n",
              "    </tr>\n",
              "    <tr>\n",
              "      <th>...</th>\n",
              "      <td>...</td>\n",
              "      <td>...</td>\n",
              "      <td>...</td>\n",
              "      <td>...</td>\n",
              "      <td>...</td>\n",
              "      <td>...</td>\n",
              "      <td>...</td>\n",
              "    </tr>\n",
              "    <tr>\n",
              "      <th>3975</th>\n",
              "      <td>2020-09-28</td>\n",
              "      <td>2710.0</td>\n",
              "      <td>2730.0</td>\n",
              "      <td>2660.0</td>\n",
              "      <td>2660.0</td>\n",
              "      <td>2660.000000</td>\n",
              "      <td>89256700.0</td>\n",
              "    </tr>\n",
              "    <tr>\n",
              "      <th>3976</th>\n",
              "      <td>2020-09-29</td>\n",
              "      <td>2690.0</td>\n",
              "      <td>2690.0</td>\n",
              "      <td>2630.0</td>\n",
              "      <td>2630.0</td>\n",
              "      <td>2630.000000</td>\n",
              "      <td>155853900.0</td>\n",
              "    </tr>\n",
              "    <tr>\n",
              "      <th>3977</th>\n",
              "      <td>2020-09-30</td>\n",
              "      <td>2630.0</td>\n",
              "      <td>2650.0</td>\n",
              "      <td>2540.0</td>\n",
              "      <td>2560.0</td>\n",
              "      <td>2560.000000</td>\n",
              "      <td>235611600.0</td>\n",
              "    </tr>\n",
              "    <tr>\n",
              "      <th>3978</th>\n",
              "      <td>2020-10-01</td>\n",
              "      <td>2600.0</td>\n",
              "      <td>2760.0</td>\n",
              "      <td>2600.0</td>\n",
              "      <td>2750.0</td>\n",
              "      <td>2750.000000</td>\n",
              "      <td>225006000.0</td>\n",
              "    </tr>\n",
              "    <tr>\n",
              "      <th>3979</th>\n",
              "      <td>2020-10-02</td>\n",
              "      <td>2750.0</td>\n",
              "      <td>2750.0</td>\n",
              "      <td>2650.0</td>\n",
              "      <td>2680.0</td>\n",
              "      <td>2680.000000</td>\n",
              "      <td>140161900.0</td>\n",
              "    </tr>\n",
              "  </tbody>\n",
              "</table>\n",
              "<p>3980 rows × 7 columns</p>\n",
              "</div>"
            ],
            "text/plain": [
              "            Date    Open    High     Low   Close    Adj Close       Volume\n",
              "0     2004-09-28   835.0   835.0   825.0   825.0   117.375580   90095000.0\n",
              "1     2004-09-29   825.0   825.0   810.0   825.0   117.375580   29370000.0\n",
              "2     2004-09-30   825.0   830.0   825.0   830.0   118.086952   42927500.0\n",
              "3     2004-10-01   830.0   845.0   825.0   840.0   119.509682  108387500.0\n",
              "4     2004-10-04   845.0   880.0   845.0   870.0   123.777878  424210000.0\n",
              "...          ...     ...     ...     ...     ...          ...          ...\n",
              "3975  2020-09-28  2710.0  2730.0  2660.0  2660.0  2660.000000   89256700.0\n",
              "3976  2020-09-29  2690.0  2690.0  2630.0  2630.0  2630.000000  155853900.0\n",
              "3977  2020-09-30  2630.0  2650.0  2540.0  2560.0  2560.000000  235611600.0\n",
              "3978  2020-10-01  2600.0  2760.0  2600.0  2750.0  2750.000000  225006000.0\n",
              "3979  2020-10-02  2750.0  2750.0  2650.0  2680.0  2680.000000  140161900.0\n",
              "\n",
              "[3980 rows x 7 columns]"
            ]
          },
          "metadata": {},
          "execution_count": 4
        }
      ]
    },
    {
      "cell_type": "code",
      "metadata": {
        "colab": {
          "base_uri": "https://localhost:8080/"
        },
        "id": "iXTfnqGlZYfB",
        "outputId": "334bffad-7b5b-4628-fa91-73c02daeb3c6"
      },
      "source": [
        "print(\"Total Data : {} \\n\".format(len(df)))\n",
        "print(\"Date range from : {} to {}\".format(df.head(1)['Date'].values, df.tail(1)['Date'].values))"
      ],
      "execution_count": 5,
      "outputs": [
        {
          "output_type": "stream",
          "name": "stdout",
          "text": [
            "Total Data : 3980 \n",
            "\n",
            "Date range from : ['2004-09-28'] to ['2020-10-02']\n"
          ]
        }
      ]
    },
    {
      "cell_type": "code",
      "metadata": {
        "colab": {
          "base_uri": "https://localhost:8080/"
        },
        "id": "ISO_1PstkNWO",
        "outputId": "6efe2791-babe-48cc-8cd1-10f4da94c0d5"
      },
      "source": [
        "df.info()"
      ],
      "execution_count": 6,
      "outputs": [
        {
          "output_type": "stream",
          "name": "stdout",
          "text": [
            "<class 'pandas.core.frame.DataFrame'>\n",
            "RangeIndex: 3980 entries, 0 to 3979\n",
            "Data columns (total 7 columns):\n",
            " #   Column     Non-Null Count  Dtype  \n",
            "---  ------     --------------  -----  \n",
            " 0   Date       3980 non-null   object \n",
            " 1   Open       3944 non-null   float64\n",
            " 2   High       3944 non-null   float64\n",
            " 3   Low        3944 non-null   float64\n",
            " 4   Close      3944 non-null   float64\n",
            " 5   Adj Close  3944 non-null   float64\n",
            " 6   Volume     3944 non-null   float64\n",
            "dtypes: float64(6), object(1)\n",
            "memory usage: 217.8+ KB\n"
          ]
        }
      ]
    },
    {
      "cell_type": "markdown",
      "metadata": {
        "id": "BB1wD8hKfaqQ"
      },
      "source": [
        "Dari 3980 data, terdapat 3944 data yang tidak ada null valuesnya, ini artinya ada beberapa data yang null. Untuk mengatasinya, kita bisa menghapus row yang null dengan **dropna()** dari library **pandas**"
      ]
    },
    {
      "cell_type": "code",
      "metadata": {
        "colab": {
          "base_uri": "https://localhost:8080/",
          "height": 418
        },
        "id": "1oMA62z7kQlM",
        "outputId": "8d405395-b3f3-479d-afa7-4f85fe5743ef"
      },
      "source": [
        "df_new = df.dropna(how='any',axis=0) \n",
        "df_new"
      ],
      "execution_count": 7,
      "outputs": [
        {
          "output_type": "execute_result",
          "data": {
            "text/html": [
              "<div>\n",
              "<style scoped>\n",
              "    .dataframe tbody tr th:only-of-type {\n",
              "        vertical-align: middle;\n",
              "    }\n",
              "\n",
              "    .dataframe tbody tr th {\n",
              "        vertical-align: top;\n",
              "    }\n",
              "\n",
              "    .dataframe thead th {\n",
              "        text-align: right;\n",
              "    }\n",
              "</style>\n",
              "<table border=\"1\" class=\"dataframe\">\n",
              "  <thead>\n",
              "    <tr style=\"text-align: right;\">\n",
              "      <th></th>\n",
              "      <th>Date</th>\n",
              "      <th>Open</th>\n",
              "      <th>High</th>\n",
              "      <th>Low</th>\n",
              "      <th>Close</th>\n",
              "      <th>Adj Close</th>\n",
              "      <th>Volume</th>\n",
              "    </tr>\n",
              "  </thead>\n",
              "  <tbody>\n",
              "    <tr>\n",
              "      <th>0</th>\n",
              "      <td>2004-09-28</td>\n",
              "      <td>835.0</td>\n",
              "      <td>835.0</td>\n",
              "      <td>825.0</td>\n",
              "      <td>825.0</td>\n",
              "      <td>117.375580</td>\n",
              "      <td>90095000.0</td>\n",
              "    </tr>\n",
              "    <tr>\n",
              "      <th>1</th>\n",
              "      <td>2004-09-29</td>\n",
              "      <td>825.0</td>\n",
              "      <td>825.0</td>\n",
              "      <td>810.0</td>\n",
              "      <td>825.0</td>\n",
              "      <td>117.375580</td>\n",
              "      <td>29370000.0</td>\n",
              "    </tr>\n",
              "    <tr>\n",
              "      <th>2</th>\n",
              "      <td>2004-09-30</td>\n",
              "      <td>825.0</td>\n",
              "      <td>830.0</td>\n",
              "      <td>825.0</td>\n",
              "      <td>830.0</td>\n",
              "      <td>118.086952</td>\n",
              "      <td>42927500.0</td>\n",
              "    </tr>\n",
              "    <tr>\n",
              "      <th>3</th>\n",
              "      <td>2004-10-01</td>\n",
              "      <td>830.0</td>\n",
              "      <td>845.0</td>\n",
              "      <td>825.0</td>\n",
              "      <td>840.0</td>\n",
              "      <td>119.509682</td>\n",
              "      <td>108387500.0</td>\n",
              "    </tr>\n",
              "    <tr>\n",
              "      <th>4</th>\n",
              "      <td>2004-10-04</td>\n",
              "      <td>845.0</td>\n",
              "      <td>880.0</td>\n",
              "      <td>845.0</td>\n",
              "      <td>870.0</td>\n",
              "      <td>123.777878</td>\n",
              "      <td>424210000.0</td>\n",
              "    </tr>\n",
              "    <tr>\n",
              "      <th>...</th>\n",
              "      <td>...</td>\n",
              "      <td>...</td>\n",
              "      <td>...</td>\n",
              "      <td>...</td>\n",
              "      <td>...</td>\n",
              "      <td>...</td>\n",
              "      <td>...</td>\n",
              "    </tr>\n",
              "    <tr>\n",
              "      <th>3975</th>\n",
              "      <td>2020-09-28</td>\n",
              "      <td>2710.0</td>\n",
              "      <td>2730.0</td>\n",
              "      <td>2660.0</td>\n",
              "      <td>2660.0</td>\n",
              "      <td>2660.000000</td>\n",
              "      <td>89256700.0</td>\n",
              "    </tr>\n",
              "    <tr>\n",
              "      <th>3976</th>\n",
              "      <td>2020-09-29</td>\n",
              "      <td>2690.0</td>\n",
              "      <td>2690.0</td>\n",
              "      <td>2630.0</td>\n",
              "      <td>2630.0</td>\n",
              "      <td>2630.000000</td>\n",
              "      <td>155853900.0</td>\n",
              "    </tr>\n",
              "    <tr>\n",
              "      <th>3977</th>\n",
              "      <td>2020-09-30</td>\n",
              "      <td>2630.0</td>\n",
              "      <td>2650.0</td>\n",
              "      <td>2540.0</td>\n",
              "      <td>2560.0</td>\n",
              "      <td>2560.000000</td>\n",
              "      <td>235611600.0</td>\n",
              "    </tr>\n",
              "    <tr>\n",
              "      <th>3978</th>\n",
              "      <td>2020-10-01</td>\n",
              "      <td>2600.0</td>\n",
              "      <td>2760.0</td>\n",
              "      <td>2600.0</td>\n",
              "      <td>2750.0</td>\n",
              "      <td>2750.000000</td>\n",
              "      <td>225006000.0</td>\n",
              "    </tr>\n",
              "    <tr>\n",
              "      <th>3979</th>\n",
              "      <td>2020-10-02</td>\n",
              "      <td>2750.0</td>\n",
              "      <td>2750.0</td>\n",
              "      <td>2650.0</td>\n",
              "      <td>2680.0</td>\n",
              "      <td>2680.000000</td>\n",
              "      <td>140161900.0</td>\n",
              "    </tr>\n",
              "  </tbody>\n",
              "</table>\n",
              "<p>3944 rows × 7 columns</p>\n",
              "</div>"
            ],
            "text/plain": [
              "            Date    Open    High     Low   Close    Adj Close       Volume\n",
              "0     2004-09-28   835.0   835.0   825.0   825.0   117.375580   90095000.0\n",
              "1     2004-09-29   825.0   825.0   810.0   825.0   117.375580   29370000.0\n",
              "2     2004-09-30   825.0   830.0   825.0   830.0   118.086952   42927500.0\n",
              "3     2004-10-01   830.0   845.0   825.0   840.0   119.509682  108387500.0\n",
              "4     2004-10-04   845.0   880.0   845.0   870.0   123.777878  424210000.0\n",
              "...          ...     ...     ...     ...     ...          ...          ...\n",
              "3975  2020-09-28  2710.0  2730.0  2660.0  2660.0  2660.000000   89256700.0\n",
              "3976  2020-09-29  2690.0  2690.0  2630.0  2630.0  2630.000000  155853900.0\n",
              "3977  2020-09-30  2630.0  2650.0  2540.0  2560.0  2560.000000  235611600.0\n",
              "3978  2020-10-01  2600.0  2760.0  2600.0  2750.0  2750.000000  225006000.0\n",
              "3979  2020-10-02  2750.0  2750.0  2650.0  2680.0  2680.000000  140161900.0\n",
              "\n",
              "[3944 rows x 7 columns]"
            ]
          },
          "metadata": {},
          "execution_count": 7
        }
      ]
    },
    {
      "cell_type": "code",
      "metadata": {
        "colab": {
          "base_uri": "https://localhost:8080/",
          "height": 296
        },
        "id": "SEFs0bom7_SZ",
        "outputId": "178a7cab-63a0-4edd-9959-9823ccd715bb"
      },
      "source": [
        "df_new.describe()"
      ],
      "execution_count": 8,
      "outputs": [
        {
          "output_type": "execute_result",
          "data": {
            "text/html": [
              "<div>\n",
              "<style scoped>\n",
              "    .dataframe tbody tr th:only-of-type {\n",
              "        vertical-align: middle;\n",
              "    }\n",
              "\n",
              "    .dataframe tbody tr th {\n",
              "        vertical-align: top;\n",
              "    }\n",
              "\n",
              "    .dataframe thead th {\n",
              "        text-align: right;\n",
              "    }\n",
              "</style>\n",
              "<table border=\"1\" class=\"dataframe\">\n",
              "  <thead>\n",
              "    <tr style=\"text-align: right;\">\n",
              "      <th></th>\n",
              "      <th>Open</th>\n",
              "      <th>High</th>\n",
              "      <th>Low</th>\n",
              "      <th>Close</th>\n",
              "      <th>Adj Close</th>\n",
              "      <th>Volume</th>\n",
              "    </tr>\n",
              "  </thead>\n",
              "  <tbody>\n",
              "    <tr>\n",
              "      <th>count</th>\n",
              "      <td>3944.000000</td>\n",
              "      <td>3944.000000</td>\n",
              "      <td>3944.000000</td>\n",
              "      <td>3944.000000</td>\n",
              "      <td>3944.000000</td>\n",
              "      <td>3.944000e+03</td>\n",
              "    </tr>\n",
              "    <tr>\n",
              "      <th>mean</th>\n",
              "      <td>2436.882860</td>\n",
              "      <td>2464.980984</td>\n",
              "      <td>2409.163286</td>\n",
              "      <td>2436.994168</td>\n",
              "      <td>1742.819242</td>\n",
              "      <td>9.844441e+07</td>\n",
              "    </tr>\n",
              "    <tr>\n",
              "      <th>std</th>\n",
              "      <td>1076.058496</td>\n",
              "      <td>1084.441789</td>\n",
              "      <td>1068.223754</td>\n",
              "      <td>1076.106605</td>\n",
              "      <td>1400.825963</td>\n",
              "      <td>6.096605e+07</td>\n",
              "    </tr>\n",
              "    <tr>\n",
              "      <th>min</th>\n",
              "      <td>820.000000</td>\n",
              "      <td>825.000000</td>\n",
              "      <td>810.000000</td>\n",
              "      <td>825.000000</td>\n",
              "      <td>117.375580</td>\n",
              "      <td>0.000000e+00</td>\n",
              "    </tr>\n",
              "    <tr>\n",
              "      <th>25%</th>\n",
              "      <td>1540.000000</td>\n",
              "      <td>1560.000000</td>\n",
              "      <td>1520.000000</td>\n",
              "      <td>1540.000000</td>\n",
              "      <td>443.950134</td>\n",
              "      <td>6.014665e+07</td>\n",
              "    </tr>\n",
              "    <tr>\n",
              "      <th>50%</th>\n",
              "      <td>2100.000000</td>\n",
              "      <td>2125.000000</td>\n",
              "      <td>2060.000000</td>\n",
              "      <td>2100.000000</td>\n",
              "      <td>1266.817993</td>\n",
              "      <td>8.548225e+07</td>\n",
              "    </tr>\n",
              "    <tr>\n",
              "      <th>75%</th>\n",
              "      <td>3406.250000</td>\n",
              "      <td>3456.250000</td>\n",
              "      <td>3370.000000</td>\n",
              "      <td>3422.500000</td>\n",
              "      <td>3155.009827</td>\n",
              "      <td>1.209330e+08</td>\n",
              "    </tr>\n",
              "    <tr>\n",
              "      <th>max</th>\n",
              "      <td>4800.000000</td>\n",
              "      <td>4840.000000</td>\n",
              "      <td>4780.000000</td>\n",
              "      <td>4800.000000</td>\n",
              "      <td>4465.643555</td>\n",
              "      <td>8.080050e+08</td>\n",
              "    </tr>\n",
              "  </tbody>\n",
              "</table>\n",
              "</div>"
            ],
            "text/plain": [
              "              Open         High  ...    Adj Close        Volume\n",
              "count  3944.000000  3944.000000  ...  3944.000000  3.944000e+03\n",
              "mean   2436.882860  2464.980984  ...  1742.819242  9.844441e+07\n",
              "std    1076.058496  1084.441789  ...  1400.825963  6.096605e+07\n",
              "min     820.000000   825.000000  ...   117.375580  0.000000e+00\n",
              "25%    1540.000000  1560.000000  ...   443.950134  6.014665e+07\n",
              "50%    2100.000000  2125.000000  ...  1266.817993  8.548225e+07\n",
              "75%    3406.250000  3456.250000  ...  3155.009827  1.209330e+08\n",
              "max    4800.000000  4840.000000  ...  4465.643555  8.080050e+08\n",
              "\n",
              "[8 rows x 6 columns]"
            ]
          },
          "metadata": {},
          "execution_count": 8
        }
      ]
    },
    {
      "cell_type": "markdown",
      "metadata": {
        "id": "1wA4xv83I2Qx"
      },
      "source": [
        "Sebelum menyajikan grafik dalam bentuk lineplot, karena column 'Date' masih berupa object string, maka harus diubah dahulu ke dateformat.\n",
        "Ini perlu dilakukan karena kita ingin melihat perkembangan harga nya dari tahun ke tahun, bukan dari hari ke hari."
      ]
    },
    {
      "cell_type": "code",
      "metadata": {
        "colab": {
          "base_uri": "https://localhost:8080/"
        },
        "id": "NjXZfvY0YwTw",
        "outputId": "f9ee0ab2-0366-4edc-f33f-355a648abfcb"
      },
      "source": [
        "df_new['Date'] = pd.to_datetime(df_new['Date'] , format='%Y-%m-%d')\n",
        "df_new['Date']"
      ],
      "execution_count": 9,
      "outputs": [
        {
          "output_type": "stream",
          "name": "stderr",
          "text": [
            "/usr/local/lib/python3.7/dist-packages/ipykernel_launcher.py:1: SettingWithCopyWarning: \n",
            "A value is trying to be set on a copy of a slice from a DataFrame.\n",
            "Try using .loc[row_indexer,col_indexer] = value instead\n",
            "\n",
            "See the caveats in the documentation: https://pandas.pydata.org/pandas-docs/stable/user_guide/indexing.html#returning-a-view-versus-a-copy\n",
            "  \"\"\"Entry point for launching an IPython kernel.\n"
          ]
        },
        {
          "output_type": "execute_result",
          "data": {
            "text/plain": [
              "0      2004-09-28\n",
              "1      2004-09-29\n",
              "2      2004-09-30\n",
              "3      2004-10-01\n",
              "4      2004-10-04\n",
              "          ...    \n",
              "3975   2020-09-28\n",
              "3976   2020-09-29\n",
              "3977   2020-09-30\n",
              "3978   2020-10-01\n",
              "3979   2020-10-02\n",
              "Name: Date, Length: 3944, dtype: datetime64[ns]"
            ]
          },
          "metadata": {},
          "execution_count": 9
        }
      ]
    },
    {
      "cell_type": "markdown",
      "metadata": {
        "id": "oDZDc039EX55"
      },
      "source": [
        "Dalam proses data understanding, saya menggunakan visualisasi data berupa grafik karena saya ingin mengetahui perkembangan harga saham TLKM dari dataset dan periode yang ada "
      ]
    },
    {
      "cell_type": "code",
      "metadata": {
        "colab": {
          "base_uri": "https://localhost:8080/",
          "height": 633
        },
        "id": "IFGT0X96ZfzB",
        "outputId": "7a9b118c-f530-422a-cb86-89a4062cc85d"
      },
      "source": [
        "visual_plot =df_new[['Date','Close', 'Open', 'High']]\n",
        "\n",
        "plt.figure(figsize=(20,10))\n",
        "\n",
        "sns.lineplot(y=visual_plot['Open'], color=\"r\", x=visual_plot['Date'])\n",
        "sns.lineplot(y=visual_plot['Close'], color=\"g\", x=visual_plot['Date'])\n",
        "sns.lineplot(y=visual_plot['High'], color=\"cyan\", x=visual_plot['Date'])\n",
        "\n",
        "plt.xlabel('Tahun', fontsize=20)\n",
        "plt.ylabel('Harga (IDR)', fontsize=20)\n",
        "plt.legend(['Open','Close','High'], loc='upper right')\n"
      ],
      "execution_count": 10,
      "outputs": [
        {
          "output_type": "execute_result",
          "data": {
            "text/plain": [
              "<matplotlib.legend.Legend at 0x7f09be519110>"
            ]
          },
          "metadata": {},
          "execution_count": 10
        },
        {
          "output_type": "display_data",
          "data": {
            "image/png": "[encoded data removed]",
            "text/plain": [
              "<Figure size 1440x720 with 1 Axes>"
            ]
          },
          "metadata": {
            "needs_background": "light"
          }
        }
      ]
    },
    {
      "cell_type": "markdown",
      "metadata": {
        "id": "mhf-ST7xoPU6"
      },
      "source": [
        "\n",
        "# **Data Preparation**"
      ]
    },
    {
      "cell_type": "markdown",
      "metadata": {
        "id": "054-b9MdCnMC"
      },
      "source": [
        "Memastikan bahwa dataset aman dari missing values dan tidak terdapat duplikasi "
      ]
    },
    {
      "cell_type": "code",
      "metadata": {
        "colab": {
          "base_uri": "https://localhost:8080/"
        },
        "id": "qYsOtI_JpBqs",
        "outputId": "428f34e8-1dd8-4950-fdce-f083c4c4e63a"
      },
      "source": [
        "df_new.isnull().sum()"
      ],
      "execution_count": 11,
      "outputs": [
        {
          "output_type": "execute_result",
          "data": {
            "text/plain": [
              "Date         0\n",
              "Open         0\n",
              "High         0\n",
              "Low          0\n",
              "Close        0\n",
              "Adj Close    0\n",
              "Volume       0\n",
              "dtype: int64"
            ]
          },
          "metadata": {},
          "execution_count": 11
        }
      ]
    },
    {
      "cell_type": "code",
      "metadata": {
        "colab": {
          "base_uri": "https://localhost:8080/"
        },
        "id": "DNYD9lskpVaK",
        "outputId": "b7d9b330-2e38-43d9-c63b-887a82bdf1cb"
      },
      "source": [
        "check_duplicates = df_new[df_new.duplicated()]\n",
        "print(check_duplicates)"
      ],
      "execution_count": 12,
      "outputs": [
        {
          "output_type": "stream",
          "name": "stdout",
          "text": [
            "Empty DataFrame\n",
            "Columns: [Date, Open, High, Low, Close, Adj Close, Volume]\n",
            "Index: []\n"
          ]
        }
      ]
    },
    {
      "cell_type": "markdown",
      "metadata": {
        "id": "1ItlgvmWC0AK"
      },
      "source": [
        "Hanya memilih kolom 'Date' dan 'Close' untuk proses persiapan data dan implementasi MinMaxScaler agar data yang diproses terskala dengan rapi"
      ]
    },
    {
      "cell_type": "code",
      "metadata": {
        "id": "73tB1JPgo-ex"
      },
      "source": [
        "df_new.index = df_new['Date']\n",
        "df_new = df_new.drop(['Date','Open','High','Low', 'Volume', 'Adj Close'], axis=1)"
      ],
      "execution_count": 13,
      "outputs": []
    },
    {
      "cell_type": "code",
      "metadata": {
        "id": "o4y1iBtyeaI_"
      },
      "source": [
        "minmax_scaler = MinMaxScaler()\n",
        "df_scaled = minmax_scaler.fit_transform(df_new)\n",
        "train_set, test_set = df_scaled[0:int(len(df_scaled)*0.8), :], df_scaled[int(len(df_scaled)*0.8):len(df_scaled), :]"
      ],
      "execution_count": 14,
      "outputs": []
    },
    {
      "cell_type": "markdown",
      "metadata": {
        "id": "Eiou5zMLDMaK"
      },
      "source": [
        "Penggunaan fungsi untuk proses window sebelum dilakukan splitting data untuk menentukan 80% data latih dan 20% data uji"
      ]
    },
    {
      "cell_type": "code",
      "metadata": {
        "id": "qwqefZl1orpY"
      },
      "source": [
        "def dataset_preparation(dataset, window):\n",
        "    dframe = []\n",
        "    label = []\n",
        "\n",
        "    for i in range(len(dataset) - window - 1):\n",
        "        data = dataset[i:(i + window), 0]\n",
        "        dframe.append(data)\n",
        "        label.append(dataset[i+window,0])\n",
        "    return np.array(dframe), np.array(label)\n",
        "\n",
        "x_train, y_train = dataset_preparation(train_set,80)\n",
        "x_test, y_test = dataset_preparation(test_set,80)\n",
        "x_train = np.reshape(x_train, (x_train.shape[0], x_train.shape[1],1))\n",
        "x_test = np.reshape(x_test, (x_test.shape[0], x_train.shape[1],1))"
      ],
      "execution_count": 15,
      "outputs": []
    },
    {
      "cell_type": "code",
      "metadata": {
        "id": "D9ETphHBoswI",
        "colab": {
          "base_uri": "https://localhost:8080/"
        },
        "outputId": "fa0500ff-a315-4080-ed98-f4274fbd16e2"
      },
      "source": [
        "print(\"Train Set shapes : {} {}\".format(x_train.shape, y_train.shape))\n",
        "print(\"Test Set shapes : {} {}\".format(x_test.shape, y_test.shape))"
      ],
      "execution_count": 16,
      "outputs": [
        {
          "output_type": "stream",
          "name": "stdout",
          "text": [
            "Train Set shapes : (3074, 80, 1) (3074,)\n",
            "Test Set shapes : (708, 80, 1) (708,)\n"
          ]
        }
      ]
    },
    {
      "cell_type": "markdown",
      "metadata": {
        "id": "GVTkuNqbnvga"
      },
      "source": [
        "# **Arsitektur Model**"
      ]
    },
    {
      "cell_type": "markdown",
      "metadata": {
        "id": "cmwoKkfHDkQc"
      },
      "source": [
        "Penggunaan LSTM sebagai input layer, Dropout sebagai hidden layer, dan Dense  sebagai output layer"
      ]
    },
    {
      "cell_type": "code",
      "metadata": {
        "id": "bicpTaHsc1fo"
      },
      "source": [
        "# Arsitektur Model\n",
        "model = Sequential([\n",
        "  LSTM(40),\n",
        "  Dropout(0.5),\n",
        "  Dense(1),\n",
        "])"
      ],
      "execution_count": 17,
      "outputs": []
    },
    {
      "cell_type": "markdown",
      "metadata": {
        "id": "ohwgL5A8DuzS"
      },
      "source": [
        "Menggunakan Adam Optimizer dengan learning rate 0.01. Menggunakan Mean Absolute Error (MAE) metrics dan Mean Squared Error (MSE) sebagai loss function"
      ]
    },
    {
      "cell_type": "code",
      "metadata": {
        "id": "4pKQWkvzc2z4"
      },
      "source": [
        "# Setting optimizer SGD Optimizer and learning rate\n",
        "optimizer = Adam(learning_rate=0.01)\n",
        "\n",
        "# Compile model with Huber and MAE (Mean Absolute Error) metrics\n",
        "model.compile(\n",
        "    metrics=[\"mae\"],\n",
        "    optimizer=optimizer,\n",
        "    loss='mean_squared_error')"
      ],
      "execution_count": 18,
      "outputs": []
    },
    {
      "cell_type": "markdown",
      "metadata": {
        "id": "_Ar_W-pMqFCs"
      },
      "source": [
        "# **Model Training for Deep Learning**"
      ]
    },
    {
      "cell_type": "markdown",
      "metadata": {
        "id": "dUFqv0xBD-xL"
      },
      "source": [
        "Inisiasi Callback, EarlyStopping dari library Keras memudahkan kita untuk menghentikan proses training ketika hasil metric yang sedang dimonitor tidak ada perkembangan performa selama 5 epoch"
      ]
    },
    {
      "cell_type": "code",
      "metadata": {
        "id": "vwu_pKqq0PL9"
      },
      "source": [
        "callbacks = EarlyStopping(\n",
        "    min_delta=0.01,\n",
        "    patience=5,\n",
        "    restore_best_weights=True,\n",
        ")"
      ],
      "execution_count": 19,
      "outputs": []
    },
    {
      "cell_type": "code",
      "metadata": {
        "id": "8Mb4ZKO0c5hw",
        "colab": {
          "base_uri": "https://localhost:8080/"
        },
        "outputId": "08a65c28-c9ac-4dca-c282-b4b6a90027fa"
      },
      "source": [
        "# Training Model and save it to history variable.\n",
        "history = model.fit(x_train,\n",
        "                    y_train,\n",
        "                    epochs=20,\n",
        "                    validation_data=(x_test, y_test),\n",
        "                    callbacks=[callbacks])"
      ],
      "execution_count": 20,
      "outputs": [
        {
          "output_type": "stream",
          "name": "stdout",
          "text": [
            "Epoch 1/20\n",
            "97/97 [==============================] - 7s 44ms/step - loss: 0.0093 - mae: 0.0610 - val_loss: 7.8478e-04 - val_mae: 0.0215\n",
            "Epoch 2/20\n",
            "97/97 [==============================] - 4s 38ms/step - loss: 0.0029 - mae: 0.0338 - val_loss: 6.1198e-04 - val_mae: 0.0184\n",
            "Epoch 3/20\n",
            "97/97 [==============================] - 4s 38ms/step - loss: 0.0023 - mae: 0.0318 - val_loss: 9.7010e-04 - val_mae: 0.0247\n",
            "Epoch 4/20\n",
            "97/97 [==============================] - 4s 38ms/step - loss: 0.0021 - mae: 0.0309 - val_loss: 9.4900e-04 - val_mae: 0.0243\n",
            "Epoch 5/20\n",
            "97/97 [==============================] - 4s 38ms/step - loss: 0.0019 - mae: 0.0304 - val_loss: 0.0015 - val_mae: 0.0322\n",
            "Epoch 6/20\n",
            "97/97 [==============================] - 4s 38ms/step - loss: 0.0023 - mae: 0.0337 - val_loss: 0.0012 - val_mae: 0.0283\n"
          ]
        }
      ]
    },
    {
      "cell_type": "markdown",
      "metadata": {
        "id": "i9MsahPos6HT"
      },
      "source": [
        "# **Model Evaluation**"
      ]
    },
    {
      "cell_type": "code",
      "metadata": {
        "id": "wJIECt-ec8ko",
        "colab": {
          "base_uri": "https://localhost:8080/",
          "height": 285
        },
        "outputId": "b85218a3-a179-4cf9-e68e-7ed2f2faa8be"
      },
      "source": [
        "# Create plot for mae and val_mae\n",
        "figure, axes = plt.subplots(nrows=2, ncols=2)\n",
        "figure.tight_layout(pad=3.0)\n",
        "\n",
        "plt.subplot(1, 2, 1) # row 1, col 2 index 1\n",
        "plt.plot(history.history['mae'])\n",
        "plt.plot(history.history['val_mae'], 'r')\n",
        "plt.title('Training and Testing MAE Value')\n",
        "plt.xlabel('epoch')\n",
        "plt.legend(['Training MAE', 'Testing MAE'], loc='upper right')\n",
        "\n",
        "# Create plot for loss and val_loss\n",
        "plt.subplot(1, 2, 2) # index 2\n",
        "plt.plot(history.history['loss'])\n",
        "plt.plot(history.history['val_loss'])\n",
        "plt.title('Training and Testing Loss Value')\n",
        "plt.xlabel('epoch')\n",
        "plt.legend(['Training Loss', 'Testing Loss'], loc='upper right')\n",
        "\n",
        "plt.show()"
      ],
      "execution_count": 21,
      "outputs": [
        {
          "output_type": "display_data",
          "data": {
            "image/png": "[encoded data removed]",
            "text/plain": [
              "<Figure size 432x288 with 2 Axes>"
            ]
          },
          "metadata": {
            "needs_background": "light"
          }
        }
      ]
    },
    {
      "cell_type": "markdown",
      "metadata": {
        "id": "pjpdFeLXqec1"
      },
      "source": [
        "# **Model Prediction**"
      ]
    },
    {
      "cell_type": "code",
      "metadata": {
        "id": "PEjhKmI_pTMz"
      },
      "source": [
        "predict_test = model.predict(x_train)\n",
        "predict_test = minmax_scaler.inverse_transform(predict_test)\n",
        "actual_test = minmax_scaler.inverse_transform([y_train])"
      ],
      "execution_count": 22,
      "outputs": []
    },
    {
      "cell_type": "markdown",
      "metadata": {
        "id": "4POyuhHEJUww"
      },
      "source": [
        "Membuat dataframe baru untuk menyimpan prediction dan actual value, kemudian menambahkan kolom 'Date' dari variable df. Setelah semua kolom mempunyai data, kita dapat melihat harga asli dan prediksi harga dari data training yang telah dijalankan"
      ]
    },
    {
      "cell_type": "code",
      "metadata": {
        "id": "4dQh7QH7uo6O"
      },
      "source": [
        "data_predict_and_actual = {'actual_value':actual_test[0], 'prediction_value' : predict_test[:,0]}\n",
        "\n",
        "df_predict = pd.DataFrame(data_predict_and_actual)\n",
        "df_predict['Date'] = df['Date'][:len(df_predict['actual_value'])]"
      ],
      "execution_count": 23,
      "outputs": []
    },
    {
      "cell_type": "code",
      "metadata": {
        "id": "zJ5sB93tpUZR",
        "colab": {
          "base_uri": "https://localhost:8080/",
          "height": 313
        },
        "outputId": "b909f219-c77d-4937-b820-eb09c8924551"
      },
      "source": [
        "df_predict.plot(x=\"Date\" )\n",
        "plt.ylabel('Harga Rupiah', size=12)\n",
        "\n",
        "plt.xlabel('Date', size=12)\n",
        "plt.xticks(rotation=30)\n",
        "\n",
        "plt.legend([\"Actual\", \"Prediction\"], fontsize=15, loc='upper left')\n",
        "plt.show();"
      ],
      "execution_count": 24,
      "outputs": [
        {
          "output_type": "display_data",
          "data": {
            "image/png": "[encoded data removed]",
            "text/plain": [
              "<Figure size 432x288 with 1 Axes>"
            ]
          },
          "metadata": {
            "needs_background": "light"
          }
        }
      ]
    }
  ]
}