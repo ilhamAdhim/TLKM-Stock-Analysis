{
  "cells": [
    {
      "cell_type": "markdown",
      "metadata": {
        "id": "bL0RuBtpnd2c"
      },
      "source": [
        "# **Business Understanding**"
      ]
    },
    {
      "cell_type": "markdown",
      "metadata": {
        "id": "-zIpHPynngnb"
      },
      "source": [
        "**Problem Statement**\n",
        "\n",
        "> Membuat prediksi harga saham PT Telkom Indonesia (Persero) Tbk. berdasarkan dataset yang ada.\n",
        "\n",
        "**Goal**\n",
        "> Memprediksi harga saham TLKM\n",
        "\n",
        "**Solution**\n",
        "> Karena dataset terkait hanya berisi tentang data tanggal dan harga, maka solusi yang sangat tepat untuk masalah ini adalah dengan menggunakan pendekatan Time Series. "
      ]
    },
    {
      "cell_type": "code",
      "execution_count": 106,
      "metadata": {
        "colab": {
          "base_uri": "https://localhost:8080/"
        },
        "id": "hygtTdj2YxzJ",
        "outputId": "863f6621-a78e-4b6c-9db1-0a61d92ab81d"
      },
      "outputs": [
        {
          "name": "stdout",
          "output_type": "stream",
          "text": [
            "Requirement already satisfied: opendatasets in /usr/local/lib/python3.7/dist-packages (0.1.20)\n",
            "Requirement already satisfied: tqdm in /usr/local/lib/python3.7/dist-packages (from opendatasets) (4.62.3)\n",
            "Requirement already satisfied: click in /usr/local/lib/python3.7/dist-packages (from opendatasets) (7.1.2)\n",
            "Requirement already satisfied: kaggle in /usr/local/lib/python3.7/dist-packages (from opendatasets) (1.5.12)\n",
            "Requirement already satisfied: python-slugify in /usr/local/lib/python3.7/dist-packages (from kaggle->opendatasets) (5.0.2)\n",
            "Requirement already satisfied: six>=1.10 in /usr/local/lib/python3.7/dist-packages (from kaggle->opendatasets) (1.15.0)\n",
            "Requirement already satisfied: requests in /usr/local/lib/python3.7/dist-packages (from kaggle->opendatasets) (2.23.0)\n",
            "Requirement already satisfied: urllib3 in /usr/local/lib/python3.7/dist-packages (from kaggle->opendatasets) (1.24.3)\n",
            "Requirement already satisfied: certifi in /usr/local/lib/python3.7/dist-packages (from kaggle->opendatasets) (2021.5.30)\n",
            "Requirement already satisfied: python-dateutil in /usr/local/lib/python3.7/dist-packages (from kaggle->opendatasets) (2.8.2)\n",
            "Requirement already satisfied: text-unidecode>=1.3 in /usr/local/lib/python3.7/dist-packages (from python-slugify->kaggle->opendatasets) (1.3)\n",
            "Requirement already satisfied: idna<3,>=2.5 in /usr/local/lib/python3.7/dist-packages (from requests->kaggle->opendatasets) (2.10)\n",
            "Requirement already satisfied: chardet<4,>=3.0.2 in /usr/local/lib/python3.7/dist-packages (from requests->kaggle->opendatasets) (3.0.4)\n"
          ]
        }
      ],
      "source": [
        "!pip install opendatasets"
      ]
    },
    {
      "cell_type": "code",
      "execution_count": 107,
      "metadata": {
        "id": "lvPHaHjBY1QD"
      },
      "outputs": [],
      "source": [
        "# Import all required libraries\n",
        "import numpy as np\n",
        "import pandas as pd\n",
        "import tensorflow as tf\n",
        "import matplotlib\n",
        "import matplotlib.ticker as ticker\n",
        "import matplotlib.pyplot as plt\n",
        "import matplotlib.dates as mdates\n",
        "\n",
        "# Importing layers from keras. Use LSTM for input layer, and Dense for hidden and output layer\n",
        "from keras.layers import Dense, LSTM, Dropout\n",
        "from keras.models import Sequential\n",
        "\n",
        "# Import Adam Optimizers\n",
        "from tensorflow.keras.optimizers import Adam\n",
        "\n",
        "# Import for splitting test and training data set\n",
        "from sklearn.preprocessing import MinMaxScaler\n",
        "from sklearn.model_selection import train_test_split\n",
        "import seaborn as sns\n",
        "\n",
        "from keras.callbacks import  EarlyStopping\n",
        "import opendatasets as od"
      ]
    },
    {
      "cell_type": "code",
      "execution_count": 108,
      "metadata": {
        "colab": {
          "base_uri": "https://localhost:8080/"
        },
        "id": "d6x4o1VlY2wp",
        "outputId": "c18257eb-5ce9-4c49-a2c4-65259f71c8f2"
      },
      "outputs": [
        {
          "name": "stdout",
          "output_type": "stream",
          "text": [
            "Skipping, found downloaded files in \"./indonesian-government-owned-company-stock-price\" (use force=True to force download)\n"
          ]
        }
      ],
      "source": [
        "od.download(\"https://www.kaggle.com/fawwazzainiahmad/indonesian-government-owned-company-stock-price\")"
      ]
    },
    {
      "cell_type": "markdown",
      "metadata": {
        "id": "Ts-0iaVgnn6r"
      },
      "source": [
        "\n",
        "# Data Understanding\n"
      ]
    },
    {
      "cell_type": "markdown",
      "metadata": {
        "id": "dNW8JBYAno5C"
      },
      "source": [
        "\n",
        "Untuk submission ini, saya mengambil data dari [Kaggle](https://www.kaggle.com) yang bernama **[Indonesian Government Owned Company Stock Price](https://www.kaggle.com/fawwazzainiahmad/indonesian-government-owned-company-stock-price?select=TLKM.JK.csv)**. Berikut adalah daftar kolom di file CSV yang tersedia:\n",
        "\n",
        "  * Date - Tanggal trading saham TLKM (datatype : string object)\n",
        "  * Open - Harga ketika pertama kali diumumkan di tanggal tersebut (datatype : float64)\n",
        "  * High - Harga tertinggi di tanggal tersebut (datatype : float64)\n",
        "  * Low -  Harga terendah di tanggal tersebut (datatype : float64)\n",
        "  * Close - Harga saham ketika diakhir period (datatype : float64)\n",
        "  * Adj Close - Close value setelah mempertimbangkan dividen dan stock split (datatype : float64)\n",
        "  * Volume - Jumlah transaksi saham di tanggal tersebut (datatype : float64)"
      ]
    },
    {
      "cell_type": "code",
      "execution_count": 109,
      "metadata": {
        "colab": {
          "base_uri": "https://localhost:8080/",
          "height": 417
        },
        "id": "SDlqgVDZY4Bm",
        "outputId": "bbd5a312-676a-43fe-def7-0d9435c27bcf"
      },
      "outputs": [
        {
          "data": {
            "text/html": [
              "<div>\n",
              "<style scoped>\n",
              "    .dataframe tbody tr th:only-of-type {\n",
              "        vertical-align: middle;\n",
              "    }\n",
              "\n",
              "    .dataframe tbody tr th {\n",
              "        vertical-align: top;\n",
              "    }\n",
              "\n",
              "    .dataframe thead th {\n",
              "        text-align: right;\n",
              "    }\n",
              "</style>\n",
              "<table border=\"1\" class=\"dataframe\">\n",
              "  <thead>\n",
              "    <tr style=\"text-align: right;\">\n",
              "      <th></th>\n",
              "      <th>Date</th>\n",
              "      <th>Open</th>\n",
              "      <th>High</th>\n",
              "      <th>Low</th>\n",
              "      <th>Close</th>\n",
              "      <th>Adj Close</th>\n",
              "      <th>Volume</th>\n",
              "    </tr>\n",
              "  </thead>\n",
              "  <tbody>\n",
              "    <tr>\n",
              "      <th>0</th>\n",
              "      <td>2004-09-28</td>\n",
              "      <td>835.0</td>\n",
              "      <td>835.0</td>\n",
              "      <td>825.0</td>\n",
              "      <td>825.0</td>\n",
              "      <td>117.375580</td>\n",
              "      <td>90095000.0</td>\n",
              "    </tr>\n",
              "    <tr>\n",
              "      <th>1</th>\n",
              "      <td>2004-09-29</td>\n",
              "      <td>825.0</td>\n",
              "      <td>825.0</td>\n",
              "      <td>810.0</td>\n",
              "      <td>825.0</td>\n",
              "      <td>117.375580</td>\n",
              "      <td>29370000.0</td>\n",
              "    </tr>\n",
              "    <tr>\n",
              "      <th>2</th>\n",
              "      <td>2004-09-30</td>\n",
              "      <td>825.0</td>\n",
              "      <td>830.0</td>\n",
              "      <td>825.0</td>\n",
              "      <td>830.0</td>\n",
              "      <td>118.086952</td>\n",
              "      <td>42927500.0</td>\n",
              "    </tr>\n",
              "    <tr>\n",
              "      <th>3</th>\n",
              "      <td>2004-10-01</td>\n",
              "      <td>830.0</td>\n",
              "      <td>845.0</td>\n",
              "      <td>825.0</td>\n",
              "      <td>840.0</td>\n",
              "      <td>119.509682</td>\n",
              "      <td>108387500.0</td>\n",
              "    </tr>\n",
              "    <tr>\n",
              "      <th>4</th>\n",
              "      <td>2004-10-04</td>\n",
              "      <td>845.0</td>\n",
              "      <td>880.0</td>\n",
              "      <td>845.0</td>\n",
              "      <td>870.0</td>\n",
              "      <td>123.777878</td>\n",
              "      <td>424210000.0</td>\n",
              "    </tr>\n",
              "    <tr>\n",
              "      <th>...</th>\n",
              "      <td>...</td>\n",
              "      <td>...</td>\n",
              "      <td>...</td>\n",
              "      <td>...</td>\n",
              "      <td>...</td>\n",
              "      <td>...</td>\n",
              "      <td>...</td>\n",
              "    </tr>\n",
              "    <tr>\n",
              "      <th>3975</th>\n",
              "      <td>2020-09-28</td>\n",
              "      <td>2710.0</td>\n",
              "      <td>2730.0</td>\n",
              "      <td>2660.0</td>\n",
              "      <td>2660.0</td>\n",
              "      <td>2660.000000</td>\n",
              "      <td>89256700.0</td>\n",
              "    </tr>\n",
              "    <tr>\n",
              "      <th>3976</th>\n",
              "      <td>2020-09-29</td>\n",
              "      <td>2690.0</td>\n",
              "      <td>2690.0</td>\n",
              "      <td>2630.0</td>\n",
              "      <td>2630.0</td>\n",
              "      <td>2630.000000</td>\n",
              "      <td>155853900.0</td>\n",
              "    </tr>\n",
              "    <tr>\n",
              "      <th>3977</th>\n",
              "      <td>2020-09-30</td>\n",
              "      <td>2630.0</td>\n",
              "      <td>2650.0</td>\n",
              "      <td>2540.0</td>\n",
              "      <td>2560.0</td>\n",
              "      <td>2560.000000</td>\n",
              "      <td>235611600.0</td>\n",
              "    </tr>\n",
              "    <tr>\n",
              "      <th>3978</th>\n",
              "      <td>2020-10-01</td>\n",
              "      <td>2600.0</td>\n",
              "      <td>2760.0</td>\n",
              "      <td>2600.0</td>\n",
              "      <td>2750.0</td>\n",
              "      <td>2750.000000</td>\n",
              "      <td>225006000.0</td>\n",
              "    </tr>\n",
              "    <tr>\n",
              "      <th>3979</th>\n",
              "      <td>2020-10-02</td>\n",
              "      <td>2750.0</td>\n",
              "      <td>2750.0</td>\n",
              "      <td>2650.0</td>\n",
              "      <td>2680.0</td>\n",
              "      <td>2680.000000</td>\n",
              "      <td>140161900.0</td>\n",
              "    </tr>\n",
              "  </tbody>\n",
              "</table>\n",
              "<p>3980 rows × 7 columns</p>\n",
              "</div>"
            ],
            "text/plain": [
              "            Date    Open    High     Low   Close    Adj Close       Volume\n",
              "0     2004-09-28   835.0   835.0   825.0   825.0   117.375580   90095000.0\n",
              "1     2004-09-29   825.0   825.0   810.0   825.0   117.375580   29370000.0\n",
              "2     2004-09-30   825.0   830.0   825.0   830.0   118.086952   42927500.0\n",
              "3     2004-10-01   830.0   845.0   825.0   840.0   119.509682  108387500.0\n",
              "4     2004-10-04   845.0   880.0   845.0   870.0   123.777878  424210000.0\n",
              "...          ...     ...     ...     ...     ...          ...          ...\n",
              "3975  2020-09-28  2710.0  2730.0  2660.0  2660.0  2660.000000   89256700.0\n",
              "3976  2020-09-29  2690.0  2690.0  2630.0  2630.0  2630.000000  155853900.0\n",
              "3977  2020-09-30  2630.0  2650.0  2540.0  2560.0  2560.000000  235611600.0\n",
              "3978  2020-10-01  2600.0  2760.0  2600.0  2750.0  2750.000000  225006000.0\n",
              "3979  2020-10-02  2750.0  2750.0  2650.0  2680.0  2680.000000  140161900.0\n",
              "\n",
              "[3980 rows x 7 columns]"
            ]
          },
          "execution_count": 109,
          "metadata": {},
          "output_type": "execute_result"
        }
      ],
      "source": [
        "df = pd.read_csv('/content/indonesian-government-owned-company-stock-price/TLKM.JK.csv', parse_dates=True, squeeze=True)\n",
        "df"
      ]
    },
    {
      "cell_type": "code",
      "execution_count": 110,
      "metadata": {
        "colab": {
          "base_uri": "https://localhost:8080/"
        },
        "id": "iXTfnqGlZYfB",
        "outputId": "623851d6-713d-493b-9836-519cc7f5fcec"
      },
      "outputs": [
        {
          "name": "stdout",
          "output_type": "stream",
          "text": [
            "Total Data : 3980 \n",
            "\n",
            "Date range from : ['2004-09-28'] to ['2020-10-02']\n"
          ]
        }
      ],
      "source": [
        "print(\"Total Data : {} \\n\".format(len(df)))\n",
        "print(\"Date range from : {} to {}\".format(df.head(1)['Date'].values, df.tail(1)['Date'].values))"
      ]
    },
    {
      "cell_type": "code",
      "execution_count": 111,
      "metadata": {
        "colab": {
          "base_uri": "https://localhost:8080/"
        },
        "id": "ISO_1PstkNWO",
        "outputId": "c697bfa0-f18e-43be-e89b-d244b5d250b7"
      },
      "outputs": [
        {
          "name": "stdout",
          "output_type": "stream",
          "text": [
            "<class 'pandas.core.frame.DataFrame'>\n",
            "RangeIndex: 3980 entries, 0 to 3979\n",
            "Data columns (total 7 columns):\n",
            " #   Column     Non-Null Count  Dtype  \n",
            "---  ------     --------------  -----  \n",
            " 0   Date       3980 non-null   object \n",
            " 1   Open       3944 non-null   float64\n",
            " 2   High       3944 non-null   float64\n",
            " 3   Low        3944 non-null   float64\n",
            " 4   Close      3944 non-null   float64\n",
            " 5   Adj Close  3944 non-null   float64\n",
            " 6   Volume     3944 non-null   float64\n",
            "dtypes: float64(6), object(1)\n",
            "memory usage: 217.8+ KB\n"
          ]
        }
      ],
      "source": [
        "df.info()"
      ]
    },
    {
      "cell_type": "code",
      "execution_count": 111,
      "metadata": {
        "id": "oeOyMIhcis4c"
      },
      "outputs": [],
      "source": []
    },
    {
      "cell_type": "markdown",
      "metadata": {
        "id": "BB1wD8hKfaqQ"
      },
      "source": [
        "Dari 3980 data, terdapat 3944 data yang tidak ada null valuesnya, ini artinya ada beberapa data yang null. Untuk mengatasinya, kita bisa menghapus row yang null dengan **dropna()** dari library **pandas**"
      ]
    },
    {
      "cell_type": "code",
      "execution_count": 112,
      "metadata": {
        "colab": {
          "base_uri": "https://localhost:8080/",
          "height": 417
        },
        "id": "1oMA62z7kQlM",
        "outputId": "f8afbce7-c3ad-4923-db0a-4fc2a54ddc2c"
      },
      "outputs": [
        {
          "data": {
            "text/html": [
              "<div>\n",
              "<style scoped>\n",
              "    .dataframe tbody tr th:only-of-type {\n",
              "        vertical-align: middle;\n",
              "    }\n",
              "\n",
              "    .dataframe tbody tr th {\n",
              "        vertical-align: top;\n",
              "    }\n",
              "\n",
              "    .dataframe thead th {\n",
              "        text-align: right;\n",
              "    }\n",
              "</style>\n",
              "<table border=\"1\" class=\"dataframe\">\n",
              "  <thead>\n",
              "    <tr style=\"text-align: right;\">\n",
              "      <th></th>\n",
              "      <th>Date</th>\n",
              "      <th>Open</th>\n",
              "      <th>High</th>\n",
              "      <th>Low</th>\n",
              "      <th>Close</th>\n",
              "      <th>Adj Close</th>\n",
              "      <th>Volume</th>\n",
              "    </tr>\n",
              "  </thead>\n",
              "  <tbody>\n",
              "    <tr>\n",
              "      <th>0</th>\n",
              "      <td>2004-09-28</td>\n",
              "      <td>835.0</td>\n",
              "      <td>835.0</td>\n",
              "      <td>825.0</td>\n",
              "      <td>825.0</td>\n",
              "      <td>117.375580</td>\n",
              "      <td>90095000.0</td>\n",
              "    </tr>\n",
              "    <tr>\n",
              "      <th>1</th>\n",
              "      <td>2004-09-29</td>\n",
              "      <td>825.0</td>\n",
              "      <td>825.0</td>\n",
              "      <td>810.0</td>\n",
              "      <td>825.0</td>\n",
              "      <td>117.375580</td>\n",
              "      <td>29370000.0</td>\n",
              "    </tr>\n",
              "    <tr>\n",
              "      <th>2</th>\n",
              "      <td>2004-09-30</td>\n",
              "      <td>825.0</td>\n",
              "      <td>830.0</td>\n",
              "      <td>825.0</td>\n",
              "      <td>830.0</td>\n",
              "      <td>118.086952</td>\n",
              "      <td>42927500.0</td>\n",
              "    </tr>\n",
              "    <tr>\n",
              "      <th>3</th>\n",
              "      <td>2004-10-01</td>\n",
              "      <td>830.0</td>\n",
              "      <td>845.0</td>\n",
              "      <td>825.0</td>\n",
              "      <td>840.0</td>\n",
              "      <td>119.509682</td>\n",
              "      <td>108387500.0</td>\n",
              "    </tr>\n",
              "    <tr>\n",
              "      <th>4</th>\n",
              "      <td>2004-10-04</td>\n",
              "      <td>845.0</td>\n",
              "      <td>880.0</td>\n",
              "      <td>845.0</td>\n",
              "      <td>870.0</td>\n",
              "      <td>123.777878</td>\n",
              "      <td>424210000.0</td>\n",
              "    </tr>\n",
              "    <tr>\n",
              "      <th>...</th>\n",
              "      <td>...</td>\n",
              "      <td>...</td>\n",
              "      <td>...</td>\n",
              "      <td>...</td>\n",
              "      <td>...</td>\n",
              "      <td>...</td>\n",
              "      <td>...</td>\n",
              "    </tr>\n",
              "    <tr>\n",
              "      <th>3975</th>\n",
              "      <td>2020-09-28</td>\n",
              "      <td>2710.0</td>\n",
              "      <td>2730.0</td>\n",
              "      <td>2660.0</td>\n",
              "      <td>2660.0</td>\n",
              "      <td>2660.000000</td>\n",
              "      <td>89256700.0</td>\n",
              "    </tr>\n",
              "    <tr>\n",
              "      <th>3976</th>\n",
              "      <td>2020-09-29</td>\n",
              "      <td>2690.0</td>\n",
              "      <td>2690.0</td>\n",
              "      <td>2630.0</td>\n",
              "      <td>2630.0</td>\n",
              "      <td>2630.000000</td>\n",
              "      <td>155853900.0</td>\n",
              "    </tr>\n",
              "    <tr>\n",
              "      <th>3977</th>\n",
              "      <td>2020-09-30</td>\n",
              "      <td>2630.0</td>\n",
              "      <td>2650.0</td>\n",
              "      <td>2540.0</td>\n",
              "      <td>2560.0</td>\n",
              "      <td>2560.000000</td>\n",
              "      <td>235611600.0</td>\n",
              "    </tr>\n",
              "    <tr>\n",
              "      <th>3978</th>\n",
              "      <td>2020-10-01</td>\n",
              "      <td>2600.0</td>\n",
              "      <td>2760.0</td>\n",
              "      <td>2600.0</td>\n",
              "      <td>2750.0</td>\n",
              "      <td>2750.000000</td>\n",
              "      <td>225006000.0</td>\n",
              "    </tr>\n",
              "    <tr>\n",
              "      <th>3979</th>\n",
              "      <td>2020-10-02</td>\n",
              "      <td>2750.0</td>\n",
              "      <td>2750.0</td>\n",
              "      <td>2650.0</td>\n",
              "      <td>2680.0</td>\n",
              "      <td>2680.000000</td>\n",
              "      <td>140161900.0</td>\n",
              "    </tr>\n",
              "  </tbody>\n",
              "</table>\n",
              "<p>3944 rows × 7 columns</p>\n",
              "</div>"
            ],
            "text/plain": [
              "            Date    Open    High     Low   Close    Adj Close       Volume\n",
              "0     2004-09-28   835.0   835.0   825.0   825.0   117.375580   90095000.0\n",
              "1     2004-09-29   825.0   825.0   810.0   825.0   117.375580   29370000.0\n",
              "2     2004-09-30   825.0   830.0   825.0   830.0   118.086952   42927500.0\n",
              "3     2004-10-01   830.0   845.0   825.0   840.0   119.509682  108387500.0\n",
              "4     2004-10-04   845.0   880.0   845.0   870.0   123.777878  424210000.0\n",
              "...          ...     ...     ...     ...     ...          ...          ...\n",
              "3975  2020-09-28  2710.0  2730.0  2660.0  2660.0  2660.000000   89256700.0\n",
              "3976  2020-09-29  2690.0  2690.0  2630.0  2630.0  2630.000000  155853900.0\n",
              "3977  2020-09-30  2630.0  2650.0  2540.0  2560.0  2560.000000  235611600.0\n",
              "3978  2020-10-01  2600.0  2760.0  2600.0  2750.0  2750.000000  225006000.0\n",
              "3979  2020-10-02  2750.0  2750.0  2650.0  2680.0  2680.000000  140161900.0\n",
              "\n",
              "[3944 rows x 7 columns]"
            ]
          },
          "execution_count": 112,
          "metadata": {},
          "output_type": "execute_result"
        }
      ],
      "source": [
        "df_new = df.dropna(how='any',axis=0) \n",
        "df_new"
      ]
    },
    {
      "cell_type": "code",
      "execution_count": 113,
      "metadata": {
        "colab": {
          "base_uri": "https://localhost:8080/",
          "height": 295
        },
        "id": "SEFs0bom7_SZ",
        "outputId": "27cbaef5-9ab1-47bc-f65a-17216b91c914"
      },
      "outputs": [
        {
          "data": {
            "text/html": [
              "<div>\n",
              "<style scoped>\n",
              "    .dataframe tbody tr th:only-of-type {\n",
              "        vertical-align: middle;\n",
              "    }\n",
              "\n",
              "    .dataframe tbody tr th {\n",
              "        vertical-align: top;\n",
              "    }\n",
              "\n",
              "    .dataframe thead th {\n",
              "        text-align: right;\n",
              "    }\n",
              "</style>\n",
              "<table border=\"1\" class=\"dataframe\">\n",
              "  <thead>\n",
              "    <tr style=\"text-align: right;\">\n",
              "      <th></th>\n",
              "      <th>Open</th>\n",
              "      <th>High</th>\n",
              "      <th>Low</th>\n",
              "      <th>Close</th>\n",
              "      <th>Adj Close</th>\n",
              "      <th>Volume</th>\n",
              "    </tr>\n",
              "  </thead>\n",
              "  <tbody>\n",
              "    <tr>\n",
              "      <th>count</th>\n",
              "      <td>3944.000000</td>\n",
              "      <td>3944.000000</td>\n",
              "      <td>3944.000000</td>\n",
              "      <td>3944.000000</td>\n",
              "      <td>3944.000000</td>\n",
              "      <td>3.944000e+03</td>\n",
              "    </tr>\n",
              "    <tr>\n",
              "      <th>mean</th>\n",
              "      <td>2436.882860</td>\n",
              "      <td>2464.980984</td>\n",
              "      <td>2409.163286</td>\n",
              "      <td>2436.994168</td>\n",
              "      <td>1742.819242</td>\n",
              "      <td>9.844441e+07</td>\n",
              "    </tr>\n",
              "    <tr>\n",
              "      <th>std</th>\n",
              "      <td>1076.058496</td>\n",
              "      <td>1084.441789</td>\n",
              "      <td>1068.223754</td>\n",
              "      <td>1076.106605</td>\n",
              "      <td>1400.825963</td>\n",
              "      <td>6.096605e+07</td>\n",
              "    </tr>\n",
              "    <tr>\n",
              "      <th>min</th>\n",
              "      <td>820.000000</td>\n",
              "      <td>825.000000</td>\n",
              "      <td>810.000000</td>\n",
              "      <td>825.000000</td>\n",
              "      <td>117.375580</td>\n",
              "      <td>0.000000e+00</td>\n",
              "    </tr>\n",
              "    <tr>\n",
              "      <th>25%</th>\n",
              "      <td>1540.000000</td>\n",
              "      <td>1560.000000</td>\n",
              "      <td>1520.000000</td>\n",
              "      <td>1540.000000</td>\n",
              "      <td>443.950134</td>\n",
              "      <td>6.014665e+07</td>\n",
              "    </tr>\n",
              "    <tr>\n",
              "      <th>50%</th>\n",
              "      <td>2100.000000</td>\n",
              "      <td>2125.000000</td>\n",
              "      <td>2060.000000</td>\n",
              "      <td>2100.000000</td>\n",
              "      <td>1266.817993</td>\n",
              "      <td>8.548225e+07</td>\n",
              "    </tr>\n",
              "    <tr>\n",
              "      <th>75%</th>\n",
              "      <td>3406.250000</td>\n",
              "      <td>3456.250000</td>\n",
              "      <td>3370.000000</td>\n",
              "      <td>3422.500000</td>\n",
              "      <td>3155.009827</td>\n",
              "      <td>1.209330e+08</td>\n",
              "    </tr>\n",
              "    <tr>\n",
              "      <th>max</th>\n",
              "      <td>4800.000000</td>\n",
              "      <td>4840.000000</td>\n",
              "      <td>4780.000000</td>\n",
              "      <td>4800.000000</td>\n",
              "      <td>4465.643555</td>\n",
              "      <td>8.080050e+08</td>\n",
              "    </tr>\n",
              "  </tbody>\n",
              "</table>\n",
              "</div>"
            ],
            "text/plain": [
              "              Open         High  ...    Adj Close        Volume\n",
              "count  3944.000000  3944.000000  ...  3944.000000  3.944000e+03\n",
              "mean   2436.882860  2464.980984  ...  1742.819242  9.844441e+07\n",
              "std    1076.058496  1084.441789  ...  1400.825963  6.096605e+07\n",
              "min     820.000000   825.000000  ...   117.375580  0.000000e+00\n",
              "25%    1540.000000  1560.000000  ...   443.950134  6.014665e+07\n",
              "50%    2100.000000  2125.000000  ...  1266.817993  8.548225e+07\n",
              "75%    3406.250000  3456.250000  ...  3155.009827  1.209330e+08\n",
              "max    4800.000000  4840.000000  ...  4465.643555  8.080050e+08\n",
              "\n",
              "[8 rows x 6 columns]"
            ]
          },
          "execution_count": 113,
          "metadata": {},
          "output_type": "execute_result"
        }
      ],
      "source": [
        "df_new.describe()"
      ]
    },
    {
      "cell_type": "markdown",
      "metadata": {
        "id": "1wA4xv83I2Qx"
      },
      "source": [
        "Sebelum menyajikan grafik dalam bentuk lineplot, karena column 'Date' masih berupa object string, maka harus diubah dahulu ke dateformat.\n",
        "Ini perlu dilakukan karena kita ingin melihat perkembangan harga nya dari tahun ke tahun, bukan dari hari ke hari."
      ]
    },
    {
      "cell_type": "code",
      "execution_count": 114,
      "metadata": {
        "colab": {
          "base_uri": "https://localhost:8080/"
        },
        "id": "NjXZfvY0YwTw",
        "outputId": "d20fe829-2fe0-4f67-b012-909420b484f0"
      },
      "outputs": [
        {
          "name": "stderr",
          "output_type": "stream",
          "text": [
            "/usr/local/lib/python3.7/dist-packages/ipykernel_launcher.py:1: SettingWithCopyWarning: \n",
            "A value is trying to be set on a copy of a slice from a DataFrame.\n",
            "Try using .loc[row_indexer,col_indexer] = value instead\n",
            "\n",
            "See the caveats in the documentation: https://pandas.pydata.org/pandas-docs/stable/user_guide/indexing.html#returning-a-view-versus-a-copy\n",
            "  \"\"\"Entry point for launching an IPython kernel.\n"
          ]
        },
        {
          "data": {
            "text/plain": [
              "0      2004-09-28\n",
              "1      2004-09-29\n",
              "2      2004-09-30\n",
              "3      2004-10-01\n",
              "4      2004-10-04\n",
              "          ...    \n",
              "3975   2020-09-28\n",
              "3976   2020-09-29\n",
              "3977   2020-09-30\n",
              "3978   2020-10-01\n",
              "3979   2020-10-02\n",
              "Name: Date, Length: 3944, dtype: datetime64[ns]"
            ]
          },
          "execution_count": 114,
          "metadata": {},
          "output_type": "execute_result"
        }
      ],
      "source": [
        "df_new['Date'] = pd.to_datetime(df_new['Date'] , format='%Y-%m-%d')\n",
        "df_new['Date']"
      ]
    },
    {
      "cell_type": "markdown",
      "metadata": {
        "id": "oDZDc039EX55"
      },
      "source": [
        "Dalam proses data understanding, saya menggunakan visualisasi data berupa grafik karena saya ingin mengetahui perkembangan harga saham TLKM dari dataset dan periode yang ada "
      ]
    },
    {
      "cell_type": "code",
      "execution_count": 115,
      "metadata": {
        "colab": {
          "base_uri": "https://localhost:8080/",
          "height": 632
        },
        "id": "IFGT0X96ZfzB",
        "outputId": "c4d621b5-cec9-4880-ecdb-e22ff8c4fb8d"
      },
      "outputs": [
        {
          "data": {
            "text/plain": [
              "<matplotlib.legend.Legend at 0x7f1fd86ed190>"
            ]
          },
          "execution_count": 115,
          "metadata": {},
          "output_type": "execute_result"
        },
        {
          "data": {
            "image/png": "[encoded data removed]",
            "text/plain": [
              "<Figure size 1440x720 with 1 Axes>"
            ]
          },
          "metadata": {
            "needs_background": "light"
          },
          "output_type": "display_data"
        }
      ],
      "source": [
        "visual_plot =df_new[['Date','Close', 'Open', 'High']]\n",
        "\n",
        "plt.figure(figsize=(20,10))\n",
        "\n",
        "sns.lineplot(y=visual_plot['Open'], color=\"r\", x=visual_plot['Date'])\n",
        "sns.lineplot(y=visual_plot['Close'], color=\"g\", x=visual_plot['Date'])\n",
        "sns.lineplot(y=visual_plot['High'], color=\"cyan\", x=visual_plot['Date'])\n",
        "\n",
        "plt.xlabel('Tahun', fontsize=20)\n",
        "plt.ylabel('Harga (IDR)', fontsize=20)\n",
        "plt.legend(['Open','Close','High'], loc='upper right')\n"
      ]
    },
    {
      "cell_type": "code",
      "execution_count": 116,
      "metadata": {
        "colab": {
          "base_uri": "https://localhost:8080/",
          "height": 286
        },
        "id": "2j9Ib85s2P8a",
        "outputId": "7111bbad-da7a-4263-db27-de83b096e889"
      },
      "outputs": [
        {
          "data": {
            "text/plain": [
              "<matplotlib.axes._subplots.AxesSubplot at 0x7f1fd886f550>"
            ]
          },
          "execution_count": 116,
          "metadata": {},
          "output_type": "execute_result"
        },
        {
          "data": {
            "image/png": "[encoded data removed]",
            "text/plain": [
              "<Figure size 432x288 with 2 Axes>"
            ]
          },
          "metadata": {
            "needs_background": "light"
          },
          "output_type": "display_data"
        }
      ],
      "source": [
        "# Correlation between different variables\n",
        "corr = df.corr()\n",
        "sns.heatmap(data=corr, annot=True, cmap='coolwarm', linewidths=0.5, )"
      ]
    },
    {
      "cell_type": "markdown",
      "metadata": {
        "id": "W4ECpmzO2Smc"
      },
      "source": [
        "Berdasarkan heatplot tersebut, dapat ditarik kesimpulan bahwa fitur yang memiliki korelasi rendah adalah kolom Volume. Untuk prediksi harga, tentu kita harus memilih antara kolom Open, High, Low, dan Close. Namun, dengan adanya reduksi dimensi, kita dapat menyederhanakan harga tersebut menjadi harga final pada hari itu juga.  Proses reduksi dimensi ini akan dilakukan di tahap Data Preparation menggunakan teknik PCA \n"
      ]
    },
    {
      "cell_type": "markdown",
      "metadata": {
        "id": "mhf-ST7xoPU6"
      },
      "source": [
        "\n",
        "# **Data Preparation**"
      ]
    },
    {
      "cell_type": "markdown",
      "metadata": {
        "id": "054-b9MdCnMC"
      },
      "source": [
        "Memastikan bahwa dataset aman dari missing values dan tidak terdapat duplikasi "
      ]
    },
    {
      "cell_type": "code",
      "execution_count": 117,
      "metadata": {
        "colab": {
          "base_uri": "https://localhost:8080/"
        },
        "id": "qYsOtI_JpBqs",
        "outputId": "50dfb61b-ed46-46a6-c24e-bdd23e578d7a"
      },
      "outputs": [
        {
          "data": {
            "text/plain": [
              "Date         0\n",
              "Open         0\n",
              "High         0\n",
              "Low          0\n",
              "Close        0\n",
              "Adj Close    0\n",
              "Volume       0\n",
              "dtype: int64"
            ]
          },
          "execution_count": 117,
          "metadata": {},
          "output_type": "execute_result"
        }
      ],
      "source": [
        "df_new.isnull().sum()"
      ]
    },
    {
      "cell_type": "code",
      "execution_count": 118,
      "metadata": {
        "colab": {
          "base_uri": "https://localhost:8080/"
        },
        "id": "DNYD9lskpVaK",
        "outputId": "68d468cf-be39-4a74-9cfc-0c17bf8bc5eb"
      },
      "outputs": [
        {
          "name": "stdout",
          "output_type": "stream",
          "text": [
            "Empty DataFrame\n",
            "Columns: [Date, Open, High, Low, Close, Adj Close, Volume]\n",
            "Index: []\n"
          ]
        }
      ],
      "source": [
        "check_duplicates = df_new[df_new.duplicated()]\n",
        "print(check_duplicates)"
      ]
    },
    {
      "cell_type": "code",
      "execution_count": 119,
      "metadata": {
        "id": "73tB1JPgo-ex"
      },
      "outputs": [],
      "source": [
        "df_new_dropped = df_new.drop(['Volume'], axis=1)"
      ]
    },
    {
      "cell_type": "markdown",
      "metadata": {
        "id": "FrqChnMr3fbR"
      },
      "source": [
        "Reduksi Dimensi dengan PCA "
      ]
    },
    {
      "cell_type": "code",
      "execution_count": 120,
      "metadata": {
        "colab": {
          "base_uri": "https://localhost:8080/",
          "height": 417
        },
        "id": "O_htd5sN3lJ6",
        "outputId": "1da613eb-83fa-4d92-ab49-e2327e7f0c9f"
      },
      "outputs": [
        {
          "data": {
            "text/html": [
              "<div>\n",
              "<style scoped>\n",
              "    .dataframe tbody tr th:only-of-type {\n",
              "        vertical-align: middle;\n",
              "    }\n",
              "\n",
              "    .dataframe tbody tr th {\n",
              "        vertical-align: top;\n",
              "    }\n",
              "\n",
              "    .dataframe thead th {\n",
              "        text-align: right;\n",
              "    }\n",
              "</style>\n",
              "<table border=\"1\" class=\"dataframe\">\n",
              "  <thead>\n",
              "    <tr style=\"text-align: right;\">\n",
              "      <th></th>\n",
              "      <th>Date</th>\n",
              "      <th>dimension</th>\n",
              "    </tr>\n",
              "  </thead>\n",
              "  <tbody>\n",
              "    <tr>\n",
              "      <th>0</th>\n",
              "      <td>2004-09-28</td>\n",
              "      <td>-3582.456472</td>\n",
              "    </tr>\n",
              "    <tr>\n",
              "      <th>1</th>\n",
              "      <td>2004-09-29</td>\n",
              "      <td>-3597.156780</td>\n",
              "    </tr>\n",
              "    <tr>\n",
              "      <th>2</th>\n",
              "      <td>2004-09-30</td>\n",
              "      <td>-3586.291488</td>\n",
              "    </tr>\n",
              "    <tr>\n",
              "      <th>3</th>\n",
              "      <td>2004-10-01</td>\n",
              "      <td>-3572.859741</td>\n",
              "    </tr>\n",
              "    <tr>\n",
              "      <th>4</th>\n",
              "      <td>2004-10-04</td>\n",
              "      <td>-3528.455498</td>\n",
              "    </tr>\n",
              "    <tr>\n",
              "      <th>...</th>\n",
              "      <td>...</td>\n",
              "      <td>...</td>\n",
              "    </tr>\n",
              "    <tr>\n",
              "      <th>3975</th>\n",
              "      <td>2020-09-28</td>\n",
              "      <td>921.878067</td>\n",
              "    </tr>\n",
              "    <tr>\n",
              "      <th>3976</th>\n",
              "      <td>2020-09-29</td>\n",
              "      <td>855.155309</td>\n",
              "    </tr>\n",
              "    <tr>\n",
              "      <th>3977</th>\n",
              "      <td>2020-09-30</td>\n",
              "      <td>708.115963</td>\n",
              "    </tr>\n",
              "    <tr>\n",
              "      <th>3978</th>\n",
              "      <td>2020-10-01</td>\n",
              "      <td>949.855255</td>\n",
              "    </tr>\n",
              "    <tr>\n",
              "      <th>3979</th>\n",
              "      <td>2020-10-02</td>\n",
              "      <td>962.225541</td>\n",
              "    </tr>\n",
              "  </tbody>\n",
              "</table>\n",
              "<p>3944 rows × 2 columns</p>\n",
              "</div>"
            ],
            "text/plain": [
              "           Date    dimension\n",
              "0    2004-09-28 -3582.456472\n",
              "1    2004-09-29 -3597.156780\n",
              "2    2004-09-30 -3586.291488\n",
              "3    2004-10-01 -3572.859741\n",
              "4    2004-10-04 -3528.455498\n",
              "...         ...          ...\n",
              "3975 2020-09-28   921.878067\n",
              "3976 2020-09-29   855.155309\n",
              "3977 2020-09-30   708.115963\n",
              "3978 2020-10-01   949.855255\n",
              "3979 2020-10-02   962.225541\n",
              "\n",
              "[3944 rows x 2 columns]"
            ]
          },
          "execution_count": 120,
          "metadata": {},
          "output_type": "execute_result"
        }
      ],
      "source": [
        "from sklearn.decomposition import PCA\n",
        "pca = PCA(n_components=1, random_state=123)\n",
        "pca.fit(df_new_dropped[['Low', 'Open','High','Close', 'Adj Close']])\n",
        "\n",
        "df_new_dropped['dimension'] = pca.transform(df_new_dropped.loc[:, ('Low', 'Open','High','Close', 'Adj Close')]).flatten()\n",
        "df_new_dropped.drop(['Low', 'Open','High','Close', 'Adj Close'], axis=1, inplace=True)\n",
        "\n",
        "df_new_dropped"
      ]
    },
    {
      "cell_type": "code",
      "execution_count": 121,
      "metadata": {
        "colab": {
          "base_uri": "https://localhost:8080/",
          "height": 447
        },
        "id": "vu0e1Lr15BVK",
        "outputId": "b15b4d76-3d37-4f5d-f7a8-0520989276c9"
      },
      "outputs": [
        {
          "data": {
            "text/html": [
              "<div>\n",
              "<style scoped>\n",
              "    .dataframe tbody tr th:only-of-type {\n",
              "        vertical-align: middle;\n",
              "    }\n",
              "\n",
              "    .dataframe tbody tr th {\n",
              "        vertical-align: top;\n",
              "    }\n",
              "\n",
              "    .dataframe thead th {\n",
              "        text-align: right;\n",
              "    }\n",
              "</style>\n",
              "<table border=\"1\" class=\"dataframe\">\n",
              "  <thead>\n",
              "    <tr style=\"text-align: right;\">\n",
              "      <th></th>\n",
              "      <th>dimension</th>\n",
              "    </tr>\n",
              "    <tr>\n",
              "      <th>Date</th>\n",
              "      <th></th>\n",
              "    </tr>\n",
              "  </thead>\n",
              "  <tbody>\n",
              "    <tr>\n",
              "      <th>2004-09-28</th>\n",
              "      <td>-3582.456472</td>\n",
              "    </tr>\n",
              "    <tr>\n",
              "      <th>2004-09-29</th>\n",
              "      <td>-3597.156780</td>\n",
              "    </tr>\n",
              "    <tr>\n",
              "      <th>2004-09-30</th>\n",
              "      <td>-3586.291488</td>\n",
              "    </tr>\n",
              "    <tr>\n",
              "      <th>2004-10-01</th>\n",
              "      <td>-3572.859741</td>\n",
              "    </tr>\n",
              "    <tr>\n",
              "      <th>2004-10-04</th>\n",
              "      <td>-3528.455498</td>\n",
              "    </tr>\n",
              "    <tr>\n",
              "      <th>...</th>\n",
              "      <td>...</td>\n",
              "    </tr>\n",
              "    <tr>\n",
              "      <th>2020-09-28</th>\n",
              "      <td>921.878067</td>\n",
              "    </tr>\n",
              "    <tr>\n",
              "      <th>2020-09-29</th>\n",
              "      <td>855.155309</td>\n",
              "    </tr>\n",
              "    <tr>\n",
              "      <th>2020-09-30</th>\n",
              "      <td>708.115963</td>\n",
              "    </tr>\n",
              "    <tr>\n",
              "      <th>2020-10-01</th>\n",
              "      <td>949.855255</td>\n",
              "    </tr>\n",
              "    <tr>\n",
              "      <th>2020-10-02</th>\n",
              "      <td>962.225541</td>\n",
              "    </tr>\n",
              "  </tbody>\n",
              "</table>\n",
              "<p>3944 rows × 1 columns</p>\n",
              "</div>"
            ],
            "text/plain": [
              "              dimension\n",
              "Date                   \n",
              "2004-09-28 -3582.456472\n",
              "2004-09-29 -3597.156780\n",
              "2004-09-30 -3586.291488\n",
              "2004-10-01 -3572.859741\n",
              "2004-10-04 -3528.455498\n",
              "...                 ...\n",
              "2020-09-28   921.878067\n",
              "2020-09-29   855.155309\n",
              "2020-09-30   708.115963\n",
              "2020-10-01   949.855255\n",
              "2020-10-02   962.225541\n",
              "\n",
              "[3944 rows x 1 columns]"
            ]
          },
          "execution_count": 121,
          "metadata": {},
          "output_type": "execute_result"
        }
      ],
      "source": [
        "df_new_dropped.index = df_new_dropped['Date']\n",
        "df_new_dropped = df_new_dropped.drop(columns='Date')\n",
        "df_new_dropped"
      ]
    },
    {
      "cell_type": "code",
      "execution_count": 122,
      "metadata": {
        "id": "o4y1iBtyeaI_"
      },
      "outputs": [],
      "source": [
        "  # Splitting dataset\n",
        "train_set = df_new_dropped[:int(len(df_new_dropped)*0.8) :]\n",
        "test_set = df_new_dropped[int(len(df_new_dropped)*0.8):len(df_new_dropped) :]"
      ]
    },
    {
      "cell_type": "code",
      "execution_count": 123,
      "metadata": {
        "colab": {
          "base_uri": "https://localhost:8080/",
          "height": 447
        },
        "id": "tVaHAJpwNEIo",
        "outputId": "ecd0f938-840f-4cb5-c83d-d66c16c2642f"
      },
      "outputs": [
        {
          "data": {
            "text/html": [
              "<div>\n",
              "<style scoped>\n",
              "    .dataframe tbody tr th:only-of-type {\n",
              "        vertical-align: middle;\n",
              "    }\n",
              "\n",
              "    .dataframe tbody tr th {\n",
              "        vertical-align: top;\n",
              "    }\n",
              "\n",
              "    .dataframe thead th {\n",
              "        text-align: right;\n",
              "    }\n",
              "</style>\n",
              "<table border=\"1\" class=\"dataframe\">\n",
              "  <thead>\n",
              "    <tr style=\"text-align: right;\">\n",
              "      <th></th>\n",
              "      <th>dimension</th>\n",
              "    </tr>\n",
              "    <tr>\n",
              "      <th>Date</th>\n",
              "      <th></th>\n",
              "    </tr>\n",
              "  </thead>\n",
              "  <tbody>\n",
              "    <tr>\n",
              "      <th>2004-09-28</th>\n",
              "      <td>-3582.456472</td>\n",
              "    </tr>\n",
              "    <tr>\n",
              "      <th>2004-09-29</th>\n",
              "      <td>-3597.156780</td>\n",
              "    </tr>\n",
              "    <tr>\n",
              "      <th>2004-09-30</th>\n",
              "      <td>-3586.291488</td>\n",
              "    </tr>\n",
              "    <tr>\n",
              "      <th>2004-10-01</th>\n",
              "      <td>-3572.859741</td>\n",
              "    </tr>\n",
              "    <tr>\n",
              "      <th>2004-10-04</th>\n",
              "      <td>-3528.455498</td>\n",
              "    </tr>\n",
              "    <tr>\n",
              "      <th>...</th>\n",
              "      <td>...</td>\n",
              "    </tr>\n",
              "    <tr>\n",
              "      <th>2017-08-28</th>\n",
              "      <td>5329.911359</td>\n",
              "    </tr>\n",
              "    <tr>\n",
              "      <th>2017-08-29</th>\n",
              "      <td>5303.023120</td>\n",
              "    </tr>\n",
              "    <tr>\n",
              "      <th>2017-08-30</th>\n",
              "      <td>5308.028160</td>\n",
              "    </tr>\n",
              "    <tr>\n",
              "      <th>2017-08-31</th>\n",
              "      <td>5253.483766</td>\n",
              "    </tr>\n",
              "    <tr>\n",
              "      <th>2017-09-01</th>\n",
              "      <td>5207.043068</td>\n",
              "    </tr>\n",
              "  </tbody>\n",
              "</table>\n",
              "<p>3155 rows × 1 columns</p>\n",
              "</div>"
            ],
            "text/plain": [
              "              dimension\n",
              "Date                   \n",
              "2004-09-28 -3582.456472\n",
              "2004-09-29 -3597.156780\n",
              "2004-09-30 -3586.291488\n",
              "2004-10-01 -3572.859741\n",
              "2004-10-04 -3528.455498\n",
              "...                 ...\n",
              "2017-08-28  5329.911359\n",
              "2017-08-29  5303.023120\n",
              "2017-08-30  5308.028160\n",
              "2017-08-31  5253.483766\n",
              "2017-09-01  5207.043068\n",
              "\n",
              "[3155 rows x 1 columns]"
            ]
          },
          "execution_count": 123,
          "metadata": {},
          "output_type": "execute_result"
        }
      ],
      "source": [
        "train_set"
      ]
    },
    {
      "cell_type": "code",
      "execution_count": 124,
      "metadata": {
        "colab": {
          "base_uri": "https://localhost:8080/",
          "height": 447
        },
        "id": "jh6fCH6lNmGQ",
        "outputId": "f17d287d-07a2-41d9-9b9d-2973415824c3"
      },
      "outputs": [
        {
          "data": {
            "text/html": [
              "<div>\n",
              "<style scoped>\n",
              "    .dataframe tbody tr th:only-of-type {\n",
              "        vertical-align: middle;\n",
              "    }\n",
              "\n",
              "    .dataframe tbody tr th {\n",
              "        vertical-align: top;\n",
              "    }\n",
              "\n",
              "    .dataframe thead th {\n",
              "        text-align: right;\n",
              "    }\n",
              "</style>\n",
              "<table border=\"1\" class=\"dataframe\">\n",
              "  <thead>\n",
              "    <tr style=\"text-align: right;\">\n",
              "      <th></th>\n",
              "      <th>dimension</th>\n",
              "    </tr>\n",
              "    <tr>\n",
              "      <th>Date</th>\n",
              "      <th></th>\n",
              "    </tr>\n",
              "  </thead>\n",
              "  <tbody>\n",
              "    <tr>\n",
              "      <th>2017-09-04</th>\n",
              "      <td>5202.166417</td>\n",
              "    </tr>\n",
              "    <tr>\n",
              "      <th>2017-09-05</th>\n",
              "      <td>5128.231488</td>\n",
              "    </tr>\n",
              "    <tr>\n",
              "      <th>2017-09-06</th>\n",
              "      <td>5208.963276</td>\n",
              "    </tr>\n",
              "    <tr>\n",
              "      <th>2017-09-07</th>\n",
              "      <td>5237.434051</td>\n",
              "    </tr>\n",
              "    <tr>\n",
              "      <th>2017-09-08</th>\n",
              "      <td>5230.718085</td>\n",
              "    </tr>\n",
              "    <tr>\n",
              "      <th>...</th>\n",
              "      <td>...</td>\n",
              "    </tr>\n",
              "    <tr>\n",
              "      <th>2020-09-28</th>\n",
              "      <td>921.878067</td>\n",
              "    </tr>\n",
              "    <tr>\n",
              "      <th>2020-09-29</th>\n",
              "      <td>855.155309</td>\n",
              "    </tr>\n",
              "    <tr>\n",
              "      <th>2020-09-30</th>\n",
              "      <td>708.115963</td>\n",
              "    </tr>\n",
              "    <tr>\n",
              "      <th>2020-10-01</th>\n",
              "      <td>949.855255</td>\n",
              "    </tr>\n",
              "    <tr>\n",
              "      <th>2020-10-02</th>\n",
              "      <td>962.225541</td>\n",
              "    </tr>\n",
              "  </tbody>\n",
              "</table>\n",
              "<p>789 rows × 1 columns</p>\n",
              "</div>"
            ],
            "text/plain": [
              "              dimension\n",
              "Date                   \n",
              "2017-09-04  5202.166417\n",
              "2017-09-05  5128.231488\n",
              "2017-09-06  5208.963276\n",
              "2017-09-07  5237.434051\n",
              "2017-09-08  5230.718085\n",
              "...                 ...\n",
              "2020-09-28   921.878067\n",
              "2020-09-29   855.155309\n",
              "2020-09-30   708.115963\n",
              "2020-10-01   949.855255\n",
              "2020-10-02   962.225541\n",
              "\n",
              "[789 rows x 1 columns]"
            ]
          },
          "execution_count": 124,
          "metadata": {},
          "output_type": "execute_result"
        }
      ],
      "source": [
        "test_set"
      ]
    },
    {
      "cell_type": "code",
      "execution_count": 125,
      "metadata": {
        "id": "qwqefZl1orpY"
      },
      "outputs": [],
      "source": [
        "def dataset_preparation(dataset, window):\n",
        "    dframe = []\n",
        "    label = []\n",
        "\n",
        "    for i in range(len(dataset) - window - 1):\n",
        "        data = dataset[i:(i + window), 0]\n",
        "        dframe.append(data)\n",
        "        label.append(dataset[i+window,0])\n",
        "    return np.array(dframe), np.array(label)"
      ]
    },
    {
      "cell_type": "code",
      "execution_count": 126,
      "metadata": {
        "id": "pDMZYyxjOLcF"
      },
      "outputs": [],
      "source": [
        "# MinMax Scaling\n",
        "minmax_scaler = MinMaxScaler()\n",
        "scaled_train_set = minmax_scaler.fit_transform(train_set)\n",
        "scaled_test_set = minmax_scaler.fit_transform(test_set)"
      ]
    },
    {
      "cell_type": "code",
      "execution_count": 127,
      "metadata": {
        "id": "WUUcbzXhOOnz"
      },
      "outputs": [],
      "source": [
        "# Prepare dataset with defined window size\n",
        "x_train, y_train = dataset_preparation(scaled_train_set,80)\n",
        "x_test, y_test = dataset_preparation(scaled_test_set,80)\n"
      ]
    },
    {
      "cell_type": "code",
      "execution_count": 128,
      "metadata": {
        "id": "hd6vw_acOOJD"
      },
      "outputs": [],
      "source": [
        "# Reshaping\n",
        "x_train = np.reshape(x_train, (x_train.shape[0], x_train.shape[1],1))\n",
        "x_test = np.reshape(x_test, (x_test.shape[0], x_train.shape[1],1))"
      ]
    },
    {
      "cell_type": "code",
      "execution_count": 129,
      "metadata": {
        "colab": {
          "base_uri": "https://localhost:8080/"
        },
        "id": "D9ETphHBoswI",
        "outputId": "b8b8e2fe-e633-4275-b395-f7a5bfac8574"
      },
      "outputs": [
        {
          "name": "stdout",
          "output_type": "stream",
          "text": [
            "\n",
            "----MinMax Scaled Data----\n",
            "All data : 3155\n",
            "\n",
            "----Splitted Data----\n",
            "Train Set shapes : (3074, 80, 1) (3074,)\n",
            "Test Set shapes : (708, 80, 1) (708,)\n"
          ]
        }
      ],
      "source": [
        "print(\"\\n----MinMax Scaled Data----\")\n",
        "print(\"All data : {}\".format(len(scaled_train_set)))  \n",
        "\n",
        "print(\"\\n----Splitted Data----\")\n",
        "print(\"Train Set shapes : {} {}\".format(x_train.shape, y_train.shape))\n",
        "print(\"Test Set shapes : {} {}\".format(x_test.shape, y_test.shape))"
      ]
    },
    {
      "cell_type": "markdown",
      "metadata": {
        "id": "GVTkuNqbnvga"
      },
      "source": [
        "# **Arsitektur Model**"
      ]
    },
    {
      "cell_type": "markdown",
      "metadata": {
        "id": "cmwoKkfHDkQc"
      },
      "source": [
        "Penggunaan LSTM sebagai input layer, Dropout sebagai hidden layer, dan Dense  sebagai output layer"
      ]
    },
    {
      "cell_type": "code",
      "execution_count": 130,
      "metadata": {
        "id": "bicpTaHsc1fo"
      },
      "outputs": [],
      "source": [
        "# Arsitektur Model\n",
        "model = Sequential([\n",
        "  LSTM(40),\n",
        "  Dropout(0.5),\n",
        "  Dense(32),\n",
        "  Dense(1),\n",
        "])"
      ]
    },
    {
      "cell_type": "markdown",
      "metadata": {
        "id": "ohwgL5A8DuzS"
      },
      "source": [
        "Menggunakan Adam Optimizer dengan learning rate 0.01. Menggunakan Mean Absolute Error (MAE) metrics dan Mean Squared Error (MSE) sebagai loss function"
      ]
    },
    {
      "cell_type": "code",
      "execution_count": 131,
      "metadata": {
        "id": "4pKQWkvzc2z4"
      },
      "outputs": [],
      "source": [
        "# Setting optimizer SGD Optimizer and learning rate\n",
        "optimizer = Adam(learning_rate=0.01)\n",
        "\n",
        "# Compile model with Huber and MAE (Mean Absolute Error) metrics\n",
        "model.compile(\n",
        "    metrics=[\"mae\"],\n",
        "    optimizer=optimizer,\n",
        "    loss='mean_squared_error')"
      ]
    },
    {
      "cell_type": "markdown",
      "metadata": {
        "id": "_Ar_W-pMqFCs"
      },
      "source": [
        "# **Model Training for Deep Learning**"
      ]
    },
    {
      "cell_type": "markdown",
      "metadata": {
        "id": "dUFqv0xBD-xL"
      },
      "source": [
        "Inisiasi Callback, EarlyStopping dari library Keras memudahkan kita untuk menghentikan proses training ketika hasil metric yang sedang dimonitor tidak ada perkembangan performa selama 5 epoch"
      ]
    },
    {
      "cell_type": "code",
      "execution_count": 132,
      "metadata": {
        "id": "vwu_pKqq0PL9"
      },
      "outputs": [],
      "source": [
        "callbacks = EarlyStopping(\n",
        "    min_delta=0.01,\n",
        "    patience=5,\n",
        "    restore_best_weights=True,\n",
        ")"
      ]
    },
    {
      "cell_type": "code",
      "execution_count": 133,
      "metadata": {
        "colab": {
          "base_uri": "https://localhost:8080/"
        },
        "id": "8Mb4ZKO0c5hw",
        "outputId": "110b8884-12f0-423f-a744-7bc5815206f2"
      },
      "outputs": [
        {
          "name": "stdout",
          "output_type": "stream",
          "text": [
            "Epoch 1/20\n",
            "97/97 [==============================] - 6s 42ms/step - loss: 0.0078 - mae: 0.0532 - val_loss: 0.0031 - val_mae: 0.0449\n",
            "Epoch 2/20\n",
            "97/97 [==============================] - 4s 38ms/step - loss: 0.0022 - mae: 0.0331 - val_loss: 0.0020 - val_mae: 0.0337\n",
            "Epoch 3/20\n",
            "97/97 [==============================] - 4s 37ms/step - loss: 0.0022 - mae: 0.0332 - val_loss: 0.0027 - val_mae: 0.0408\n",
            "Epoch 4/20\n",
            "97/97 [==============================] - 4s 37ms/step - loss: 0.0020 - mae: 0.0312 - val_loss: 0.0025 - val_mae: 0.0408\n",
            "Epoch 5/20\n",
            "97/97 [==============================] - 4s 37ms/step - loss: 0.0023 - mae: 0.0347 - val_loss: 0.0014 - val_mae: 0.0276\n",
            "Epoch 6/20\n",
            "97/97 [==============================] - 4s 37ms/step - loss: 0.0019 - mae: 0.0299 - val_loss: 0.0019 - val_mae: 0.0339\n"
          ]
        }
      ],
      "source": [
        "# Training Model and save it to history variable.\n",
        "history = model.fit(x_train,\n",
        "                    y_train,\n",
        "                    epochs=20,\n",
        "                    validation_data=(x_test, y_test),\n",
        "                    callbacks=[callbacks])"
      ]
    },
    {
      "cell_type": "markdown",
      "metadata": {
        "id": "i9MsahPos6HT"
      },
      "source": [
        "# **Model Evaluation**"
      ]
    },
    {
      "cell_type": "code",
      "execution_count": 134,
      "metadata": {
        "colab": {
          "base_uri": "https://localhost:8080/",
          "height": 285
        },
        "id": "wJIECt-ec8ko",
        "outputId": "5d03b0da-913f-4897-8132-a0ce8da30817"
      },
      "outputs": [
        {
          "data": {
            "image/png": "[encoded data removed]",
            "text/plain": [
              "<Figure size 432x288 with 2 Axes>"
            ]
          },
          "metadata": {
            "needs_background": "light"
          },
          "output_type": "display_data"
        }
      ],
      "source": [
        "# Create plot for mae and val_mae\n",
        "figure, axes = plt.subplots(nrows=2, ncols=2)\n",
        "figure.tight_layout(pad=3.0)\n",
        "\n",
        "plt.subplot(1, 2, 1) # row 1, col 2 index 1\n",
        "plt.plot(history.history['mae'])\n",
        "plt.plot(history.history['val_mae'], 'r')\n",
        "plt.title('Training and Testing MAE Value')\n",
        "plt.xlabel('epoch')\n",
        "plt.legend(['Training MAE', 'Testing MAE'], loc='upper right')\n",
        "\n",
        "# Create plot for loss and val_loss\n",
        "plt.subplot(1, 2, 2) # index 2\n",
        "plt.plot(history.history['loss'])\n",
        "plt.plot(history.history['val_loss'])\n",
        "plt.title('Training and Testing Loss Value')\n",
        "plt.xlabel('epoch')\n",
        "plt.legend(['Training Loss', 'Testing Loss'], loc='upper right')\n",
        "\n",
        "plt.show()"
      ]
    },
    {
      "cell_type": "markdown",
      "metadata": {
        "id": "pjpdFeLXqec1"
      },
      "source": [
        "# **Model Prediction**"
      ]
    },
    {
      "cell_type": "code",
      "execution_count": 135,
      "metadata": {
        "id": "PEjhKmI_pTMz"
      },
      "outputs": [],
      "source": [
        "predict_test = model.predict(x_test)\n",
        "predict_test = minmax_scaler.inverse_transform(predict_test)\n",
        "actual_test = minmax_scaler.inverse_transform([y_test])"
      ]
    },
    {
      "cell_type": "markdown",
      "metadata": {
        "id": "4POyuhHEJUww"
      },
      "source": [
        "Membuat dataframe baru untuk menyimpan prediction dan actual value, kemudian menambahkan kolom 'Date' dari variable df. Setelah semua kolom mempunyai data, kita dapat melihat harga asli dan prediksi harga dari data training yang telah dijalankan"
      ]
    },
    {
      "cell_type": "code",
      "execution_count": 136,
      "metadata": {
        "id": "4dQh7QH7uo6O"
      },
      "outputs": [],
      "source": [
        "data_predict_and_actual = {'actual_value':actual_test[0], 'prediction_value' : predict_test[:,0]}\n",
        "\n",
        "df_predict = pd.DataFrame(data_predict_and_actual)\n",
        "df_predict['Date'] = df['Date'][:len(df_predict['actual_value'])]"
      ]
    },
    {
      "cell_type": "code",
      "execution_count": 137,
      "metadata": {
        "colab": {
          "base_uri": "https://localhost:8080/",
          "height": 310
        },
        "id": "zJ5sB93tpUZR",
        "outputId": "29e51d71-7cd3-4d72-db7e-1e930fb677be"
      },
      "outputs": [
        {
          "data": {
            "image/png": "[encoded data removed]",
            "text/plain": [
              "<Figure size 432x288 with 1 Axes>"
            ]
          },
          "metadata": {
            "needs_background": "light"
          },
          "output_type": "display_data"
        }
      ],
      "source": [
        "df_predict.plot(x=\"Date\" )\n",
        "plt.ylabel('Harga Rupiah', size=12)\n",
        "\n",
        "plt.xlabel('Date', size=12)\n",
        "plt.xticks(rotation=30)\n",
        "\n",
        "plt.legend([\"Actual\", \"Prediction\"], fontsize=15, loc='lower left')\n",
        "plt.show();"
      ]
    }
  ],
  "metadata": {
    "colab": {
      "collapsed_sections": [],
      "name": "Submission 1 - MLT.ipynb",
      "provenance": []
    },
    "kernelspec": {
      "display_name": "Python 3",
      "name": "python3"
    },
    "language_info": {
      "name": "python"
    }
  },
  "nbformat": 4,
  "nbformat_minor": 0
}
